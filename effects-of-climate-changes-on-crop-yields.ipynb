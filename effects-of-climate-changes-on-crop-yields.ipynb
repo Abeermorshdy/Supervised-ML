{
 "cells": [
  {
   "cell_type": "markdown",
   "id": "1dc8485e",
   "metadata": {
    "papermill": {
     "duration": 0.014014,
     "end_time": "2022-10-15T17:09:27.487847",
     "exception": false,
     "start_time": "2022-10-15T17:09:27.473833",
     "status": "completed"
    },
    "tags": []
   },
   "source": [
    "# Model Used"
   ]
  },
  {
   "cell_type": "markdown",
   "id": "cbca213e",
   "metadata": {
    "papermill": {
     "duration": 0.011767,
     "end_time": "2022-10-15T17:09:27.512346",
     "exception": false,
     "start_time": "2022-10-15T17:09:27.500579",
     "status": "completed"
    },
    "tags": []
   },
   "source": [
    "1. Linear Regression\n",
    "2. Decision Tree Regressor\n",
    "3. Random Forest Regressor\n",
    "4. XGBRegressor\n",
    "5. Bayesian Ridge\n",
    "6. Extra Trees Regressor\n",
    "7. Ada Boost Regressor"
   ]
  },
  {
   "cell_type": "code",
   "execution_count": 1,
   "id": "7d5908bb",
   "metadata": {
    "execution": {
     "iopub.execute_input": "2022-10-15T17:09:27.540011Z",
     "iopub.status.busy": "2022-10-15T17:09:27.539223Z",
     "iopub.status.idle": "2022-10-15T17:09:29.724541Z",
     "shell.execute_reply": "2022-10-15T17:09:29.723046Z"
    },
    "papermill": {
     "duration": 2.203311,
     "end_time": "2022-10-15T17:09:29.727439",
     "exception": false,
     "start_time": "2022-10-15T17:09:27.524128",
     "status": "completed"
    },
    "tags": []
   },
   "outputs": [],
   "source": [
    "import numpy as np\n",
    "import pandas as pd\n",
    "import matplotlib.pyplot as plt\n",
    "import seaborn as sns\n",
    "import warnings\n",
    "warnings.filterwarnings('ignore')\n",
    "import plotly.express as px"
   ]
  },
  {
   "cell_type": "code",
   "execution_count": 2,
   "id": "8b1f3602",
   "metadata": {
    "execution": {
     "iopub.execute_input": "2022-10-15T17:09:29.753098Z",
     "iopub.status.busy": "2022-10-15T17:09:29.752629Z",
     "iopub.status.idle": "2022-10-15T17:09:29.817849Z",
     "shell.execute_reply": "2022-10-15T17:09:29.816617Z"
    },
    "papermill": {
     "duration": 0.080929,
     "end_time": "2022-10-15T17:09:29.820326",
     "exception": false,
     "start_time": "2022-10-15T17:09:29.739397",
     "status": "completed"
    },
    "tags": []
   },
   "outputs": [],
   "source": [
    "data=pd.read_csv(\"../input/climate-change-effect-crop/climate-ds.csv\")"
   ]
  },
  {
   "cell_type": "code",
   "execution_count": 3,
   "id": "e4dbe8cb",
   "metadata": {
    "execution": {
     "iopub.execute_input": "2022-10-15T17:09:29.847524Z",
     "iopub.status.busy": "2022-10-15T17:09:29.846813Z",
     "iopub.status.idle": "2022-10-15T17:09:29.881727Z",
     "shell.execute_reply": "2022-10-15T17:09:29.880333Z"
    },
    "papermill": {
     "duration": 0.052442,
     "end_time": "2022-10-15T17:09:29.884693",
     "exception": false,
     "start_time": "2022-10-15T17:09:29.832251",
     "status": "completed"
    },
    "tags": []
   },
   "outputs": [
    {
     "data": {
      "text/html": [
       "<div>\n",
       "<style scoped>\n",
       "    .dataframe tbody tr th:only-of-type {\n",
       "        vertical-align: middle;\n",
       "    }\n",
       "\n",
       "    .dataframe tbody tr th {\n",
       "        vertical-align: top;\n",
       "    }\n",
       "\n",
       "    .dataframe thead th {\n",
       "        text-align: right;\n",
       "    }\n",
       "</style>\n",
       "<table border=\"1\" class=\"dataframe\">\n",
       "  <thead>\n",
       "    <tr style=\"text-align: right;\">\n",
       "      <th></th>\n",
       "      <th>Unnamed: 0</th>\n",
       "      <th>Area</th>\n",
       "      <th>Item</th>\n",
       "      <th>Year</th>\n",
       "      <th>average_rain_fall_mm_per_year</th>\n",
       "      <th>pesticides_tonnes</th>\n",
       "      <th>avg_temp</th>\n",
       "      <th>hg/ha_yield</th>\n",
       "    </tr>\n",
       "  </thead>\n",
       "  <tbody>\n",
       "    <tr>\n",
       "      <th>0</th>\n",
       "      <td>0</td>\n",
       "      <td>Albania</td>\n",
       "      <td>Maize</td>\n",
       "      <td>1990</td>\n",
       "      <td>1485</td>\n",
       "      <td>121.00</td>\n",
       "      <td>16.37</td>\n",
       "      <td>36613</td>\n",
       "    </tr>\n",
       "    <tr>\n",
       "      <th>1</th>\n",
       "      <td>1</td>\n",
       "      <td>Albania</td>\n",
       "      <td>Potatoes</td>\n",
       "      <td>1990</td>\n",
       "      <td>1485</td>\n",
       "      <td>121.00</td>\n",
       "      <td>16.37</td>\n",
       "      <td>66667</td>\n",
       "    </tr>\n",
       "    <tr>\n",
       "      <th>2</th>\n",
       "      <td>2</td>\n",
       "      <td>Albania</td>\n",
       "      <td>Rice, paddy</td>\n",
       "      <td>1990</td>\n",
       "      <td>1485</td>\n",
       "      <td>121.00</td>\n",
       "      <td>16.37</td>\n",
       "      <td>23333</td>\n",
       "    </tr>\n",
       "    <tr>\n",
       "      <th>3</th>\n",
       "      <td>3</td>\n",
       "      <td>Albania</td>\n",
       "      <td>Sorghum</td>\n",
       "      <td>1990</td>\n",
       "      <td>1485</td>\n",
       "      <td>121.00</td>\n",
       "      <td>16.37</td>\n",
       "      <td>12500</td>\n",
       "    </tr>\n",
       "    <tr>\n",
       "      <th>4</th>\n",
       "      <td>4</td>\n",
       "      <td>Albania</td>\n",
       "      <td>Soybeans</td>\n",
       "      <td>1990</td>\n",
       "      <td>1485</td>\n",
       "      <td>121.00</td>\n",
       "      <td>16.37</td>\n",
       "      <td>7000</td>\n",
       "    </tr>\n",
       "    <tr>\n",
       "      <th>...</th>\n",
       "      <td>...</td>\n",
       "      <td>...</td>\n",
       "      <td>...</td>\n",
       "      <td>...</td>\n",
       "      <td>...</td>\n",
       "      <td>...</td>\n",
       "      <td>...</td>\n",
       "      <td>...</td>\n",
       "    </tr>\n",
       "    <tr>\n",
       "      <th>28237</th>\n",
       "      <td>28237</td>\n",
       "      <td>Zimbabwe</td>\n",
       "      <td>Rice, paddy</td>\n",
       "      <td>2013</td>\n",
       "      <td>657</td>\n",
       "      <td>2550.07</td>\n",
       "      <td>19.76</td>\n",
       "      <td>22581</td>\n",
       "    </tr>\n",
       "    <tr>\n",
       "      <th>28238</th>\n",
       "      <td>28238</td>\n",
       "      <td>Zimbabwe</td>\n",
       "      <td>Sorghum</td>\n",
       "      <td>2013</td>\n",
       "      <td>657</td>\n",
       "      <td>2550.07</td>\n",
       "      <td>19.76</td>\n",
       "      <td>3066</td>\n",
       "    </tr>\n",
       "    <tr>\n",
       "      <th>28239</th>\n",
       "      <td>28239</td>\n",
       "      <td>Zimbabwe</td>\n",
       "      <td>Soybeans</td>\n",
       "      <td>2013</td>\n",
       "      <td>657</td>\n",
       "      <td>2550.07</td>\n",
       "      <td>19.76</td>\n",
       "      <td>13142</td>\n",
       "    </tr>\n",
       "    <tr>\n",
       "      <th>28240</th>\n",
       "      <td>28240</td>\n",
       "      <td>Zimbabwe</td>\n",
       "      <td>Sweet potatoes</td>\n",
       "      <td>2013</td>\n",
       "      <td>657</td>\n",
       "      <td>2550.07</td>\n",
       "      <td>19.76</td>\n",
       "      <td>22222</td>\n",
       "    </tr>\n",
       "    <tr>\n",
       "      <th>28241</th>\n",
       "      <td>28241</td>\n",
       "      <td>Zimbabwe</td>\n",
       "      <td>Wheat</td>\n",
       "      <td>2013</td>\n",
       "      <td>657</td>\n",
       "      <td>2550.07</td>\n",
       "      <td>19.76</td>\n",
       "      <td>22888</td>\n",
       "    </tr>\n",
       "  </tbody>\n",
       "</table>\n",
       "<p>28242 rows × 8 columns</p>\n",
       "</div>"
      ],
      "text/plain": [
       "       Unnamed: 0      Area            Item  Year  \\\n",
       "0               0   Albania           Maize  1990   \n",
       "1               1   Albania        Potatoes  1990   \n",
       "2               2   Albania     Rice, paddy  1990   \n",
       "3               3   Albania         Sorghum  1990   \n",
       "4               4   Albania        Soybeans  1990   \n",
       "...           ...       ...             ...   ...   \n",
       "28237       28237  Zimbabwe     Rice, paddy  2013   \n",
       "28238       28238  Zimbabwe         Sorghum  2013   \n",
       "28239       28239  Zimbabwe        Soybeans  2013   \n",
       "28240       28240  Zimbabwe  Sweet potatoes  2013   \n",
       "28241       28241  Zimbabwe           Wheat  2013   \n",
       "\n",
       "       average_rain_fall_mm_per_year  pesticides_tonnes  avg_temp  hg/ha_yield  \n",
       "0                               1485             121.00     16.37        36613  \n",
       "1                               1485             121.00     16.37        66667  \n",
       "2                               1485             121.00     16.37        23333  \n",
       "3                               1485             121.00     16.37        12500  \n",
       "4                               1485             121.00     16.37         7000  \n",
       "...                              ...                ...       ...          ...  \n",
       "28237                            657            2550.07     19.76        22581  \n",
       "28238                            657            2550.07     19.76         3066  \n",
       "28239                            657            2550.07     19.76        13142  \n",
       "28240                            657            2550.07     19.76        22222  \n",
       "28241                            657            2550.07     19.76        22888  \n",
       "\n",
       "[28242 rows x 8 columns]"
      ]
     },
     "execution_count": 3,
     "metadata": {},
     "output_type": "execute_result"
    }
   ],
   "source": [
    "data"
   ]
  },
  {
   "cell_type": "code",
   "execution_count": 4,
   "id": "342aaccc",
   "metadata": {
    "execution": {
     "iopub.execute_input": "2022-10-15T17:09:29.911679Z",
     "iopub.status.busy": "2022-10-15T17:09:29.911209Z",
     "iopub.status.idle": "2022-10-15T17:09:29.918756Z",
     "shell.execute_reply": "2022-10-15T17:09:29.917439Z"
    },
    "papermill": {
     "duration": 0.023651,
     "end_time": "2022-10-15T17:09:29.921144",
     "exception": false,
     "start_time": "2022-10-15T17:09:29.897493",
     "status": "completed"
    },
    "tags": []
   },
   "outputs": [
    {
     "data": {
      "text/plain": [
       "Index(['Unnamed: 0', 'Area', 'Item', 'Year', 'average_rain_fall_mm_per_year',\n",
       "       'pesticides_tonnes', 'avg_temp', 'hg/ha_yield'],\n",
       "      dtype='object')"
      ]
     },
     "execution_count": 4,
     "metadata": {},
     "output_type": "execute_result"
    }
   ],
   "source": [
    "data.columns"
   ]
  },
  {
   "cell_type": "code",
   "execution_count": 5,
   "id": "8e2f7743",
   "metadata": {
    "execution": {
     "iopub.execute_input": "2022-10-15T17:09:29.947945Z",
     "iopub.status.busy": "2022-10-15T17:09:29.947527Z",
     "iopub.status.idle": "2022-10-15T17:09:29.961837Z",
     "shell.execute_reply": "2022-10-15T17:09:29.960533Z"
    },
    "papermill": {
     "duration": 0.030459,
     "end_time": "2022-10-15T17:09:29.964112",
     "exception": false,
     "start_time": "2022-10-15T17:09:29.933653",
     "status": "completed"
    },
    "tags": []
   },
   "outputs": [
    {
     "data": {
      "text/plain": [
       "Unnamed: 0                       0\n",
       "Area                             0\n",
       "Item                             0\n",
       "Year                             0\n",
       "average_rain_fall_mm_per_year    0\n",
       "pesticides_tonnes                0\n",
       "avg_temp                         0\n",
       "hg/ha_yield                      0\n",
       "dtype: int64"
      ]
     },
     "execution_count": 5,
     "metadata": {},
     "output_type": "execute_result"
    }
   ],
   "source": [
    "data.isnull().sum()"
   ]
  },
  {
   "cell_type": "code",
   "execution_count": 6,
   "id": "3120a373",
   "metadata": {
    "execution": {
     "iopub.execute_input": "2022-10-15T17:09:29.992599Z",
     "iopub.status.busy": "2022-10-15T17:09:29.991377Z",
     "iopub.status.idle": "2022-10-15T17:09:30.019677Z",
     "shell.execute_reply": "2022-10-15T17:09:30.018416Z"
    },
    "papermill": {
     "duration": 0.044931,
     "end_time": "2022-10-15T17:09:30.022447",
     "exception": false,
     "start_time": "2022-10-15T17:09:29.977516",
     "status": "completed"
    },
    "tags": []
   },
   "outputs": [
    {
     "name": "stdout",
     "output_type": "stream",
     "text": [
      "<class 'pandas.core.frame.DataFrame'>\n",
      "RangeIndex: 28242 entries, 0 to 28241\n",
      "Data columns (total 8 columns):\n",
      " #   Column                         Non-Null Count  Dtype  \n",
      "---  ------                         --------------  -----  \n",
      " 0   Unnamed: 0                     28242 non-null  int64  \n",
      " 1   Area                           28242 non-null  object \n",
      " 2   Item                           28242 non-null  object \n",
      " 3   Year                           28242 non-null  int64  \n",
      " 4   average_rain_fall_mm_per_year  28242 non-null  int64  \n",
      " 5   pesticides_tonnes              28242 non-null  float64\n",
      " 6   avg_temp                       28242 non-null  float64\n",
      " 7   hg/ha_yield                    28242 non-null  int64  \n",
      "dtypes: float64(2), int64(4), object(2)\n",
      "memory usage: 1.7+ MB\n"
     ]
    }
   ],
   "source": [
    "data.info()"
   ]
  },
  {
   "cell_type": "code",
   "execution_count": 7,
   "id": "4cc5faec",
   "metadata": {
    "execution": {
     "iopub.execute_input": "2022-10-15T17:09:30.050641Z",
     "iopub.status.busy": "2022-10-15T17:09:30.049515Z",
     "iopub.status.idle": "2022-10-15T17:09:30.061150Z",
     "shell.execute_reply": "2022-10-15T17:09:30.059834Z"
    },
    "papermill": {
     "duration": 0.027681,
     "end_time": "2022-10-15T17:09:30.063289",
     "exception": false,
     "start_time": "2022-10-15T17:09:30.035608",
     "status": "completed"
    },
    "tags": []
   },
   "outputs": [
    {
     "data": {
      "text/plain": [
       "India         4048\n",
       "Brazil        2277\n",
       "Mexico        1472\n",
       "Pakistan      1449\n",
       "Japan          966\n",
       "              ... \n",
       "Estonia         42\n",
       "Belgium         39\n",
       "Bahrain         29\n",
       "Sudan           28\n",
       "Montenegro      24\n",
       "Name: Area, Length: 101, dtype: int64"
      ]
     },
     "execution_count": 7,
     "metadata": {},
     "output_type": "execute_result"
    }
   ],
   "source": [
    "data['Area'].value_counts()"
   ]
  },
  {
   "cell_type": "code",
   "execution_count": 8,
   "id": "2ca52452",
   "metadata": {
    "execution": {
     "iopub.execute_input": "2022-10-15T17:09:30.092025Z",
     "iopub.status.busy": "2022-10-15T17:09:30.091414Z",
     "iopub.status.idle": "2022-10-15T17:09:30.103104Z",
     "shell.execute_reply": "2022-10-15T17:09:30.101256Z"
    },
    "papermill": {
     "duration": 0.03006,
     "end_time": "2022-10-15T17:09:30.106491",
     "exception": false,
     "start_time": "2022-10-15T17:09:30.076431",
     "status": "completed"
    },
    "tags": []
   },
   "outputs": [
    {
     "data": {
      "text/plain": [
       "Potatoes                4276\n",
       "Maize                   4121\n",
       "Wheat                   3857\n",
       "Rice, paddy             3388\n",
       "Soybeans                3223\n",
       "Sorghum                 3039\n",
       "Sweet potatoes          2890\n",
       "Cassava                 2045\n",
       "Yams                     847\n",
       "Plantains and others     556\n",
       "Name: Item, dtype: int64"
      ]
     },
     "execution_count": 8,
     "metadata": {},
     "output_type": "execute_result"
    }
   ],
   "source": [
    "data['Item'].value_counts()"
   ]
  },
  {
   "cell_type": "code",
   "execution_count": 9,
   "id": "ce5f05c1",
   "metadata": {
    "execution": {
     "iopub.execute_input": "2022-10-15T17:09:30.141870Z",
     "iopub.status.busy": "2022-10-15T17:09:30.141115Z",
     "iopub.status.idle": "2022-10-15T17:09:30.226670Z",
     "shell.execute_reply": "2022-10-15T17:09:30.225286Z"
    },
    "papermill": {
     "duration": 0.106389,
     "end_time": "2022-10-15T17:09:30.229029",
     "exception": false,
     "start_time": "2022-10-15T17:09:30.122640",
     "status": "completed"
    },
    "tags": []
   },
   "outputs": [
    {
     "name": "stdout",
     "output_type": "stream",
     "text": [
      "0\n",
      "0\n",
      "1418\n",
      "1452\n"
     ]
    }
   ],
   "source": [
    "out=[]\n",
    "def iqr_outliers(df):\n",
    "    q1 = df.quantile(0.25)\n",
    "    q3 = df.quantile(0.75)\n",
    "    iqr = q3-q1\n",
    "    Lower_tail = q1 - 1.5 * iqr\n",
    "    Upper_tail = q3 + 1.5 * iqr\n",
    "    for i in df:\n",
    "        if i > Upper_tail or i < Lower_tail:\n",
    "            out.append(i)\n",
    "    print(len(out))\n",
    "\n",
    "iqr_outliers(data['Year'])\n",
    "iqr_outliers(data['average_rain_fall_mm_per_year'])\n",
    "iqr_outliers(data['pesticides_tonnes'])\n",
    "iqr_outliers(data['avg_temp'])\n"
   ]
  },
  {
   "cell_type": "code",
   "execution_count": 10,
   "id": "93f4ca20",
   "metadata": {
    "execution": {
     "iopub.execute_input": "2022-10-15T17:09:30.256425Z",
     "iopub.status.busy": "2022-10-15T17:09:30.256006Z",
     "iopub.status.idle": "2022-10-15T17:09:30.399874Z",
     "shell.execute_reply": "2022-10-15T17:09:30.398464Z"
    },
    "papermill": {
     "duration": 0.160607,
     "end_time": "2022-10-15T17:09:30.402784",
     "exception": false,
     "start_time": "2022-10-15T17:09:30.242177",
     "status": "completed"
    },
    "tags": []
   },
   "outputs": [],
   "source": [
    "from sklearn.preprocessing import LabelEncoder"
   ]
  },
  {
   "cell_type": "code",
   "execution_count": 11,
   "id": "d9843a02",
   "metadata": {
    "execution": {
     "iopub.execute_input": "2022-10-15T17:09:30.430940Z",
     "iopub.status.busy": "2022-10-15T17:09:30.430499Z",
     "iopub.status.idle": "2022-10-15T17:09:30.451195Z",
     "shell.execute_reply": "2022-10-15T17:09:30.450069Z"
    },
    "papermill": {
     "duration": 0.037879,
     "end_time": "2022-10-15T17:09:30.454026",
     "exception": false,
     "start_time": "2022-10-15T17:09:30.416147",
     "status": "completed"
    },
    "tags": []
   },
   "outputs": [],
   "source": [
    "model_trans = LabelEncoder()\n",
    "data['Area'] = model_trans.fit_transform(data['Area'])\n",
    "data['Item'] = model_trans.fit_transform(data['Item'])"
   ]
  },
  {
   "cell_type": "code",
   "execution_count": 12,
   "id": "ae8d2d75",
   "metadata": {
    "execution": {
     "iopub.execute_input": "2022-10-15T17:09:30.481277Z",
     "iopub.status.busy": "2022-10-15T17:09:30.480871Z",
     "iopub.status.idle": "2022-10-15T17:09:30.499663Z",
     "shell.execute_reply": "2022-10-15T17:09:30.498724Z"
    },
    "papermill": {
     "duration": 0.035147,
     "end_time": "2022-10-15T17:09:30.501976",
     "exception": false,
     "start_time": "2022-10-15T17:09:30.466829",
     "status": "completed"
    },
    "tags": []
   },
   "outputs": [
    {
     "data": {
      "text/html": [
       "<div>\n",
       "<style scoped>\n",
       "    .dataframe tbody tr th:only-of-type {\n",
       "        vertical-align: middle;\n",
       "    }\n",
       "\n",
       "    .dataframe tbody tr th {\n",
       "        vertical-align: top;\n",
       "    }\n",
       "\n",
       "    .dataframe thead th {\n",
       "        text-align: right;\n",
       "    }\n",
       "</style>\n",
       "<table border=\"1\" class=\"dataframe\">\n",
       "  <thead>\n",
       "    <tr style=\"text-align: right;\">\n",
       "      <th></th>\n",
       "      <th>Unnamed: 0</th>\n",
       "      <th>Area</th>\n",
       "      <th>Item</th>\n",
       "      <th>Year</th>\n",
       "      <th>average_rain_fall_mm_per_year</th>\n",
       "      <th>pesticides_tonnes</th>\n",
       "      <th>avg_temp</th>\n",
       "      <th>hg/ha_yield</th>\n",
       "    </tr>\n",
       "  </thead>\n",
       "  <tbody>\n",
       "    <tr>\n",
       "      <th>0</th>\n",
       "      <td>0</td>\n",
       "      <td>0</td>\n",
       "      <td>1</td>\n",
       "      <td>1990</td>\n",
       "      <td>1485</td>\n",
       "      <td>121.00</td>\n",
       "      <td>16.37</td>\n",
       "      <td>36613</td>\n",
       "    </tr>\n",
       "    <tr>\n",
       "      <th>1</th>\n",
       "      <td>1</td>\n",
       "      <td>0</td>\n",
       "      <td>3</td>\n",
       "      <td>1990</td>\n",
       "      <td>1485</td>\n",
       "      <td>121.00</td>\n",
       "      <td>16.37</td>\n",
       "      <td>66667</td>\n",
       "    </tr>\n",
       "    <tr>\n",
       "      <th>2</th>\n",
       "      <td>2</td>\n",
       "      <td>0</td>\n",
       "      <td>4</td>\n",
       "      <td>1990</td>\n",
       "      <td>1485</td>\n",
       "      <td>121.00</td>\n",
       "      <td>16.37</td>\n",
       "      <td>23333</td>\n",
       "    </tr>\n",
       "    <tr>\n",
       "      <th>3</th>\n",
       "      <td>3</td>\n",
       "      <td>0</td>\n",
       "      <td>5</td>\n",
       "      <td>1990</td>\n",
       "      <td>1485</td>\n",
       "      <td>121.00</td>\n",
       "      <td>16.37</td>\n",
       "      <td>12500</td>\n",
       "    </tr>\n",
       "    <tr>\n",
       "      <th>4</th>\n",
       "      <td>4</td>\n",
       "      <td>0</td>\n",
       "      <td>6</td>\n",
       "      <td>1990</td>\n",
       "      <td>1485</td>\n",
       "      <td>121.00</td>\n",
       "      <td>16.37</td>\n",
       "      <td>7000</td>\n",
       "    </tr>\n",
       "    <tr>\n",
       "      <th>...</th>\n",
       "      <td>...</td>\n",
       "      <td>...</td>\n",
       "      <td>...</td>\n",
       "      <td>...</td>\n",
       "      <td>...</td>\n",
       "      <td>...</td>\n",
       "      <td>...</td>\n",
       "      <td>...</td>\n",
       "    </tr>\n",
       "    <tr>\n",
       "      <th>28237</th>\n",
       "      <td>28237</td>\n",
       "      <td>100</td>\n",
       "      <td>4</td>\n",
       "      <td>2013</td>\n",
       "      <td>657</td>\n",
       "      <td>2550.07</td>\n",
       "      <td>19.76</td>\n",
       "      <td>22581</td>\n",
       "    </tr>\n",
       "    <tr>\n",
       "      <th>28238</th>\n",
       "      <td>28238</td>\n",
       "      <td>100</td>\n",
       "      <td>5</td>\n",
       "      <td>2013</td>\n",
       "      <td>657</td>\n",
       "      <td>2550.07</td>\n",
       "      <td>19.76</td>\n",
       "      <td>3066</td>\n",
       "    </tr>\n",
       "    <tr>\n",
       "      <th>28239</th>\n",
       "      <td>28239</td>\n",
       "      <td>100</td>\n",
       "      <td>6</td>\n",
       "      <td>2013</td>\n",
       "      <td>657</td>\n",
       "      <td>2550.07</td>\n",
       "      <td>19.76</td>\n",
       "      <td>13142</td>\n",
       "    </tr>\n",
       "    <tr>\n",
       "      <th>28240</th>\n",
       "      <td>28240</td>\n",
       "      <td>100</td>\n",
       "      <td>7</td>\n",
       "      <td>2013</td>\n",
       "      <td>657</td>\n",
       "      <td>2550.07</td>\n",
       "      <td>19.76</td>\n",
       "      <td>22222</td>\n",
       "    </tr>\n",
       "    <tr>\n",
       "      <th>28241</th>\n",
       "      <td>28241</td>\n",
       "      <td>100</td>\n",
       "      <td>8</td>\n",
       "      <td>2013</td>\n",
       "      <td>657</td>\n",
       "      <td>2550.07</td>\n",
       "      <td>19.76</td>\n",
       "      <td>22888</td>\n",
       "    </tr>\n",
       "  </tbody>\n",
       "</table>\n",
       "<p>28242 rows × 8 columns</p>\n",
       "</div>"
      ],
      "text/plain": [
       "       Unnamed: 0  Area  Item  Year  average_rain_fall_mm_per_year  \\\n",
       "0               0     0     1  1990                           1485   \n",
       "1               1     0     3  1990                           1485   \n",
       "2               2     0     4  1990                           1485   \n",
       "3               3     0     5  1990                           1485   \n",
       "4               4     0     6  1990                           1485   \n",
       "...           ...   ...   ...   ...                            ...   \n",
       "28237       28237   100     4  2013                            657   \n",
       "28238       28238   100     5  2013                            657   \n",
       "28239       28239   100     6  2013                            657   \n",
       "28240       28240   100     7  2013                            657   \n",
       "28241       28241   100     8  2013                            657   \n",
       "\n",
       "       pesticides_tonnes  avg_temp  hg/ha_yield  \n",
       "0                 121.00     16.37        36613  \n",
       "1                 121.00     16.37        66667  \n",
       "2                 121.00     16.37        23333  \n",
       "3                 121.00     16.37        12500  \n",
       "4                 121.00     16.37         7000  \n",
       "...                  ...       ...          ...  \n",
       "28237            2550.07     19.76        22581  \n",
       "28238            2550.07     19.76         3066  \n",
       "28239            2550.07     19.76        13142  \n",
       "28240            2550.07     19.76        22222  \n",
       "28241            2550.07     19.76        22888  \n",
       "\n",
       "[28242 rows x 8 columns]"
      ]
     },
     "execution_count": 12,
     "metadata": {},
     "output_type": "execute_result"
    }
   ],
   "source": [
    "data"
   ]
  },
  {
   "cell_type": "code",
   "execution_count": 13,
   "id": "c2a05962",
   "metadata": {
    "execution": {
     "iopub.execute_input": "2022-10-15T17:09:30.530007Z",
     "iopub.status.busy": "2022-10-15T17:09:30.529579Z",
     "iopub.status.idle": "2022-10-15T17:09:30.849875Z",
     "shell.execute_reply": "2022-10-15T17:09:30.848668Z"
    },
    "papermill": {
     "duration": 0.337232,
     "end_time": "2022-10-15T17:09:30.852389",
     "exception": false,
     "start_time": "2022-10-15T17:09:30.515157",
     "status": "completed"
    },
    "tags": []
   },
   "outputs": [
    {
     "data": {
      "text/plain": [
       "Text(0.5, 1.0, 'Correlation coefficient between different features and hg/ha_yield')"
      ]
     },
     "execution_count": 13,
     "metadata": {},
     "output_type": "execute_result"
    },
    {
     "data": {
      "image/png": "[encoded data removed]",
      "text/plain": [
       "<Figure size 864x576 with 1 Axes>"
      ]
     },
     "metadata": {
      "needs_background": "light"
     },
     "output_type": "display_data"
    }
   ],
   "source": [
    "plt.figure(figsize=(12,8))\n",
    "correlation = data.corr()[\"hg/ha_yield\"].sort_values(ascending=False)\n",
    "indices = correlation.index\n",
    "labels = []\n",
    "corr = []\n",
    "for i in range(1, len(indices)):\n",
    "    labels.append(indices[i])\n",
    "    corr.append(correlation[i])\n",
    "sns.barplot(x=corr, y=labels, palette='magma')\n",
    "plt.title('Correlation coefficient between different features and hg/ha_yield')"
   ]
  },
  {
   "cell_type": "code",
   "execution_count": 14,
   "id": "508c1ef0",
   "metadata": {
    "execution": {
     "iopub.execute_input": "2022-10-15T17:09:30.880732Z",
     "iopub.status.busy": "2022-10-15T17:09:30.880296Z",
     "iopub.status.idle": "2022-10-15T17:09:30.887866Z",
     "shell.execute_reply": "2022-10-15T17:09:30.886795Z"
    },
    "papermill": {
     "duration": 0.024469,
     "end_time": "2022-10-15T17:09:30.890194",
     "exception": false,
     "start_time": "2022-10-15T17:09:30.865725",
     "status": "completed"
    },
    "tags": []
   },
   "outputs": [
    {
     "data": {
      "text/plain": [
       "Index(['Unnamed: 0', 'Area', 'Item', 'Year', 'average_rain_fall_mm_per_year',\n",
       "       'pesticides_tonnes', 'avg_temp', 'hg/ha_yield'],\n",
       "      dtype='object')"
      ]
     },
     "execution_count": 14,
     "metadata": {},
     "output_type": "execute_result"
    }
   ],
   "source": [
    "data.columns"
   ]
  },
  {
   "cell_type": "code",
   "execution_count": 15,
   "id": "9179c7c1",
   "metadata": {
    "execution": {
     "iopub.execute_input": "2022-10-15T17:09:30.918883Z",
     "iopub.status.busy": "2022-10-15T17:09:30.918506Z",
     "iopub.status.idle": "2022-10-15T17:09:30.936872Z",
     "shell.execute_reply": "2022-10-15T17:09:30.935659Z"
    },
    "papermill": {
     "duration": 0.03584,
     "end_time": "2022-10-15T17:09:30.939541",
     "exception": false,
     "start_time": "2022-10-15T17:09:30.903701",
     "status": "completed"
    },
    "tags": []
   },
   "outputs": [],
   "source": [
    "from sklearn import preprocessing\n",
    "scaler = preprocessing.StandardScaler()\n",
    "data['Unnamed: 0'] = scaler.fit_transform(data['Unnamed: 0'].values.reshape(-1,1))\n",
    "data['Area'] = scaler.fit_transform(data['Area'].values.reshape(-1,1))\n",
    "data['Item'] = scaler.fit_transform(data['Item'].values.reshape(-1,1))\n",
    "data['Year'] = scaler.fit_transform(data['Year'].values.reshape(-1,1))\n",
    "data['average_rain_fall_mm_per_year'] = scaler.fit_transform(data['average_rain_fall_mm_per_year'].values.reshape(-1,1))\n",
    "data['pesticides_tonnes'] = scaler.fit_transform(data['pesticides_tonnes'].values.reshape(-1,1))\n",
    "data['avg_temp'] = scaler.fit_transform(data['avg_temp'].values.reshape(-1,1))\n"
   ]
  },
  {
   "cell_type": "code",
   "execution_count": 16,
   "id": "2702615d",
   "metadata": {
    "execution": {
     "iopub.execute_input": "2022-10-15T17:09:30.968318Z",
     "iopub.status.busy": "2022-10-15T17:09:30.967939Z",
     "iopub.status.idle": "2022-10-15T17:09:30.987541Z",
     "shell.execute_reply": "2022-10-15T17:09:30.986213Z"
    },
    "papermill": {
     "duration": 0.037011,
     "end_time": "2022-10-15T17:09:30.990027",
     "exception": false,
     "start_time": "2022-10-15T17:09:30.953016",
     "status": "completed"
    },
    "tags": []
   },
   "outputs": [
    {
     "data": {
      "text/html": [
       "<div>\n",
       "<style scoped>\n",
       "    .dataframe tbody tr th:only-of-type {\n",
       "        vertical-align: middle;\n",
       "    }\n",
       "\n",
       "    .dataframe tbody tr th {\n",
       "        vertical-align: top;\n",
       "    }\n",
       "\n",
       "    .dataframe thead th {\n",
       "        text-align: right;\n",
       "    }\n",
       "</style>\n",
       "<table border=\"1\" class=\"dataframe\">\n",
       "  <thead>\n",
       "    <tr style=\"text-align: right;\">\n",
       "      <th></th>\n",
       "      <th>Unnamed: 0</th>\n",
       "      <th>Area</th>\n",
       "      <th>Item</th>\n",
       "      <th>Year</th>\n",
       "      <th>average_rain_fall_mm_per_year</th>\n",
       "      <th>pesticides_tonnes</th>\n",
       "      <th>avg_temp</th>\n",
       "      <th>hg/ha_yield</th>\n",
       "    </tr>\n",
       "  </thead>\n",
       "  <tbody>\n",
       "    <tr>\n",
       "      <th>0</th>\n",
       "      <td>-1.731989</td>\n",
       "      <td>-1.734041</td>\n",
       "      <td>-1.298110</td>\n",
       "      <td>-1.637075</td>\n",
       "      <td>0.473294</td>\n",
       "      <td>-0.616366</td>\n",
       "      <td>-0.661069</td>\n",
       "      <td>36613</td>\n",
       "    </tr>\n",
       "    <tr>\n",
       "      <th>1</th>\n",
       "      <td>-1.731867</td>\n",
       "      <td>-1.734041</td>\n",
       "      <td>-0.539181</td>\n",
       "      <td>-1.637075</td>\n",
       "      <td>0.473294</td>\n",
       "      <td>-0.616366</td>\n",
       "      <td>-0.661069</td>\n",
       "      <td>66667</td>\n",
       "    </tr>\n",
       "    <tr>\n",
       "      <th>2</th>\n",
       "      <td>-1.731744</td>\n",
       "      <td>-1.734041</td>\n",
       "      <td>-0.159716</td>\n",
       "      <td>-1.637075</td>\n",
       "      <td>0.473294</td>\n",
       "      <td>-0.616366</td>\n",
       "      <td>-0.661069</td>\n",
       "      <td>23333</td>\n",
       "    </tr>\n",
       "    <tr>\n",
       "      <th>3</th>\n",
       "      <td>-1.731622</td>\n",
       "      <td>-1.734041</td>\n",
       "      <td>0.219749</td>\n",
       "      <td>-1.637075</td>\n",
       "      <td>0.473294</td>\n",
       "      <td>-0.616366</td>\n",
       "      <td>-0.661069</td>\n",
       "      <td>12500</td>\n",
       "    </tr>\n",
       "    <tr>\n",
       "      <th>4</th>\n",
       "      <td>-1.731499</td>\n",
       "      <td>-1.734041</td>\n",
       "      <td>0.599214</td>\n",
       "      <td>-1.637075</td>\n",
       "      <td>0.473294</td>\n",
       "      <td>-0.616366</td>\n",
       "      <td>-0.661069</td>\n",
       "      <td>7000</td>\n",
       "    </tr>\n",
       "    <tr>\n",
       "      <th>...</th>\n",
       "      <td>...</td>\n",
       "      <td>...</td>\n",
       "      <td>...</td>\n",
       "      <td>...</td>\n",
       "      <td>...</td>\n",
       "      <td>...</td>\n",
       "      <td>...</td>\n",
       "      <td>...</td>\n",
       "    </tr>\n",
       "    <tr>\n",
       "      <th>28237</th>\n",
       "      <td>1.731499</td>\n",
       "      <td>1.995503</td>\n",
       "      <td>-0.159716</td>\n",
       "      <td>1.624512</td>\n",
       "      <td>-0.693232</td>\n",
       "      <td>-0.575853</td>\n",
       "      <td>-0.123991</td>\n",
       "      <td>22581</td>\n",
       "    </tr>\n",
       "    <tr>\n",
       "      <th>28238</th>\n",
       "      <td>1.731622</td>\n",
       "      <td>1.995503</td>\n",
       "      <td>0.219749</td>\n",
       "      <td>1.624512</td>\n",
       "      <td>-0.693232</td>\n",
       "      <td>-0.575853</td>\n",
       "      <td>-0.123991</td>\n",
       "      <td>3066</td>\n",
       "    </tr>\n",
       "    <tr>\n",
       "      <th>28239</th>\n",
       "      <td>1.731744</td>\n",
       "      <td>1.995503</td>\n",
       "      <td>0.599214</td>\n",
       "      <td>1.624512</td>\n",
       "      <td>-0.693232</td>\n",
       "      <td>-0.575853</td>\n",
       "      <td>-0.123991</td>\n",
       "      <td>13142</td>\n",
       "    </tr>\n",
       "    <tr>\n",
       "      <th>28240</th>\n",
       "      <td>1.731867</td>\n",
       "      <td>1.995503</td>\n",
       "      <td>0.978678</td>\n",
       "      <td>1.624512</td>\n",
       "      <td>-0.693232</td>\n",
       "      <td>-0.575853</td>\n",
       "      <td>-0.123991</td>\n",
       "      <td>22222</td>\n",
       "    </tr>\n",
       "    <tr>\n",
       "      <th>28241</th>\n",
       "      <td>1.731989</td>\n",
       "      <td>1.995503</td>\n",
       "      <td>1.358143</td>\n",
       "      <td>1.624512</td>\n",
       "      <td>-0.693232</td>\n",
       "      <td>-0.575853</td>\n",
       "      <td>-0.123991</td>\n",
       "      <td>22888</td>\n",
       "    </tr>\n",
       "  </tbody>\n",
       "</table>\n",
       "<p>28242 rows × 8 columns</p>\n",
       "</div>"
      ],
      "text/plain": [
       "       Unnamed: 0      Area      Item      Year  \\\n",
       "0       -1.731989 -1.734041 -1.298110 -1.637075   \n",
       "1       -1.731867 -1.734041 -0.539181 -1.637075   \n",
       "2       -1.731744 -1.734041 -0.159716 -1.637075   \n",
       "3       -1.731622 -1.734041  0.219749 -1.637075   \n",
       "4       -1.731499 -1.734041  0.599214 -1.637075   \n",
       "...           ...       ...       ...       ...   \n",
       "28237    1.731499  1.995503 -0.159716  1.624512   \n",
       "28238    1.731622  1.995503  0.219749  1.624512   \n",
       "28239    1.731744  1.995503  0.599214  1.624512   \n",
       "28240    1.731867  1.995503  0.978678  1.624512   \n",
       "28241    1.731989  1.995503  1.358143  1.624512   \n",
       "\n",
       "       average_rain_fall_mm_per_year  pesticides_tonnes  avg_temp  hg/ha_yield  \n",
       "0                           0.473294          -0.616366 -0.661069        36613  \n",
       "1                           0.473294          -0.616366 -0.661069        66667  \n",
       "2                           0.473294          -0.616366 -0.661069        23333  \n",
       "3                           0.473294          -0.616366 -0.661069        12500  \n",
       "4                           0.473294          -0.616366 -0.661069         7000  \n",
       "...                              ...                ...       ...          ...  \n",
       "28237                      -0.693232          -0.575853 -0.123991        22581  \n",
       "28238                      -0.693232          -0.575853 -0.123991         3066  \n",
       "28239                      -0.693232          -0.575853 -0.123991        13142  \n",
       "28240                      -0.693232          -0.575853 -0.123991        22222  \n",
       "28241                      -0.693232          -0.575853 -0.123991        22888  \n",
       "\n",
       "[28242 rows x 8 columns]"
      ]
     },
     "execution_count": 16,
     "metadata": {},
     "output_type": "execute_result"
    }
   ],
   "source": [
    "data"
   ]
  },
  {
   "cell_type": "code",
   "execution_count": 17,
   "id": "2f683db9",
   "metadata": {
    "execution": {
     "iopub.execute_input": "2022-10-15T17:09:31.020942Z",
     "iopub.status.busy": "2022-10-15T17:09:31.020251Z",
     "iopub.status.idle": "2022-10-15T17:09:31.719892Z",
     "shell.execute_reply": "2022-10-15T17:09:31.718834Z"
    },
    "papermill": {
     "duration": 0.717658,
     "end_time": "2022-10-15T17:09:31.722116",
     "exception": false,
     "start_time": "2022-10-15T17:09:31.004458",
     "status": "completed"
    },
    "tags": []
   },
   "outputs": [
    {
     "data": {
      "text/plain": [
       "<AxesSubplot:>"
      ]
     },
     "execution_count": 17,
     "metadata": {},
     "output_type": "execute_result"
    },
    {
     "data": {
      "image/png": "[encoded data removed]",
      "text/plain": [
       "<Figure size 360x360 with 2 Axes>"
      ]
     },
     "metadata": {
      "needs_background": "light"
     },
     "output_type": "display_data"
    }
   ],
   "source": [
    "f,ax = plt.subplots(figsize=(5,5))\n",
    "sns.heatmap(data.corr(), annot=True, linewidths=.5, fmt= '.1f',ax=ax)"
   ]
  },
  {
   "cell_type": "code",
   "execution_count": 18,
   "id": "bcb05c9a",
   "metadata": {
    "execution": {
     "iopub.execute_input": "2022-10-15T17:09:31.753988Z",
     "iopub.status.busy": "2022-10-15T17:09:31.753187Z",
     "iopub.status.idle": "2022-10-15T17:09:31.818455Z",
     "shell.execute_reply": "2022-10-15T17:09:31.817302Z"
    },
    "papermill": {
     "duration": 0.084277,
     "end_time": "2022-10-15T17:09:31.821073",
     "exception": false,
     "start_time": "2022-10-15T17:09:31.736796",
     "status": "completed"
    },
    "tags": []
   },
   "outputs": [],
   "source": [
    "from sklearn.model_selection import train_test_split"
   ]
  },
  {
   "cell_type": "code",
   "execution_count": 19,
   "id": "7ee2f27c",
   "metadata": {
    "execution": {
     "iopub.execute_input": "2022-10-15T17:09:31.853596Z",
     "iopub.status.busy": "2022-10-15T17:09:31.852767Z",
     "iopub.status.idle": "2022-10-15T17:09:31.864412Z",
     "shell.execute_reply": "2022-10-15T17:09:31.863299Z"
    },
    "papermill": {
     "duration": 0.031048,
     "end_time": "2022-10-15T17:09:31.867099",
     "exception": false,
     "start_time": "2022-10-15T17:09:31.836051",
     "status": "completed"
    },
    "tags": []
   },
   "outputs": [],
   "source": [
    "X= data.drop(['hg/ha_yield'] , axis = 1).values\n",
    "y= data['hg/ha_yield' ].values"
   ]
  },
  {
   "cell_type": "code",
   "execution_count": 20,
   "id": "685af010",
   "metadata": {
    "execution": {
     "iopub.execute_input": "2022-10-15T17:09:31.899516Z",
     "iopub.status.busy": "2022-10-15T17:09:31.898667Z",
     "iopub.status.idle": "2022-10-15T17:09:31.909845Z",
     "shell.execute_reply": "2022-10-15T17:09:31.908756Z"
    },
    "papermill": {
     "duration": 0.030795,
     "end_time": "2022-10-15T17:09:31.912858",
     "exception": false,
     "start_time": "2022-10-15T17:09:31.882063",
     "status": "completed"
    },
    "tags": []
   },
   "outputs": [],
   "source": [
    "x_train , x_test , y_train , y_test = train_test_split(X,y , test_size= 0.25 , random_state=42)"
   ]
  },
  {
   "cell_type": "markdown",
   "id": "272fbc51",
   "metadata": {
    "papermill": {
     "duration": 0.014593,
     "end_time": "2022-10-15T17:09:31.942269",
     "exception": false,
     "start_time": "2022-10-15T17:09:31.927676",
     "status": "completed"
    },
    "tags": []
   },
   "source": [
    "# DecisionTreeRegressor"
   ]
  },
  {
   "cell_type": "code",
   "execution_count": 21,
   "id": "d46726ef",
   "metadata": {
    "execution": {
     "iopub.execute_input": "2022-10-15T17:09:31.974507Z",
     "iopub.status.busy": "2022-10-15T17:09:31.973749Z",
     "iopub.status.idle": "2022-10-15T17:09:32.392910Z",
     "shell.execute_reply": "2022-10-15T17:09:32.391513Z"
    },
    "papermill": {
     "duration": 0.43947,
     "end_time": "2022-10-15T17:09:32.396626",
     "exception": false,
     "start_time": "2022-10-15T17:09:31.957156",
     "status": "completed"
    },
    "tags": []
   },
   "outputs": [
    {
     "name": "stdout",
     "output_type": "stream",
     "text": [
      "MAE: 3837.033\n"
     ]
    }
   ],
   "source": [
    "from sklearn.metrics import mean_absolute_error\n",
    "from sklearn.tree import DecisionTreeRegressor\n",
    "Regressor = DecisionTreeRegressor()\n",
    "Regressor.fit(x_train, y_train)\n",
    "yhat = Regressor.predict(x_test)\n",
    "mae = mean_absolute_error(y_test, yhat)\n",
    "print('MAE: %.3f' % mae)"
   ]
  },
  {
   "cell_type": "code",
   "execution_count": 22,
   "id": "4a751d64",
   "metadata": {
    "execution": {
     "iopub.execute_input": "2022-10-15T17:09:32.430165Z",
     "iopub.status.busy": "2022-10-15T17:09:32.429624Z",
     "iopub.status.idle": "2022-10-15T17:09:32.437242Z",
     "shell.execute_reply": "2022-10-15T17:09:32.435776Z"
    },
    "papermill": {
     "duration": 0.027366,
     "end_time": "2022-10-15T17:09:32.439848",
     "exception": false,
     "start_time": "2022-10-15T17:09:32.412482",
     "status": "completed"
    },
    "tags": []
   },
   "outputs": [
    {
     "name": "stdout",
     "output_type": "stream",
     "text": [
      "R2: 0.975\n"
     ]
    }
   ],
   "source": [
    "from sklearn.metrics import r2_score\n",
    "R2_Decision_Tree = r2_score(y_test,yhat)\n",
    "print('R2: %.3f' %R2_Decision_Tree)"
   ]
  },
  {
   "cell_type": "code",
   "execution_count": 23,
   "id": "d7886153",
   "metadata": {
    "execution": {
     "iopub.execute_input": "2022-10-15T17:09:32.472783Z",
     "iopub.status.busy": "2022-10-15T17:09:32.472068Z",
     "iopub.status.idle": "2022-10-15T17:09:32.485102Z",
     "shell.execute_reply": "2022-10-15T17:09:32.483870Z"
    },
    "papermill": {
     "duration": 0.0318,
     "end_time": "2022-10-15T17:09:32.487328",
     "exception": false,
     "start_time": "2022-10-15T17:09:32.455528",
     "status": "completed"
    },
    "tags": []
   },
   "outputs": [
    {
     "name": "stdout",
     "output_type": "stream",
     "text": [
      "1.0\n"
     ]
    }
   ],
   "source": [
    "print(Regressor.score(x_train, y_train))"
   ]
  },
  {
   "cell_type": "code",
   "execution_count": 24,
   "id": "078cfdea",
   "metadata": {
    "execution": {
     "iopub.execute_input": "2022-10-15T17:09:32.521902Z",
     "iopub.status.busy": "2022-10-15T17:09:32.521501Z",
     "iopub.status.idle": "2022-10-15T17:09:32.533758Z",
     "shell.execute_reply": "2022-10-15T17:09:32.532480Z"
    },
    "papermill": {
     "duration": 0.033394,
     "end_time": "2022-10-15T17:09:32.537090",
     "exception": false,
     "start_time": "2022-10-15T17:09:32.503696",
     "status": "completed"
    },
    "tags": []
   },
   "outputs": [
    {
     "name": "stdout",
     "output_type": "stream",
     "text": [
      "0.9747074401528272\n"
     ]
    }
   ],
   "source": [
    "ACC_Decision=Regressor.score(x_test, y_test)\n",
    "print(Regressor.score(x_test, y_test))"
   ]
  },
  {
   "cell_type": "markdown",
   "id": "10fd96fd",
   "metadata": {
    "papermill": {
     "duration": 0.014507,
     "end_time": "2022-10-15T17:09:32.568058",
     "exception": false,
     "start_time": "2022-10-15T17:09:32.553551",
     "status": "completed"
    },
    "tags": []
   },
   "source": [
    "# RandomForestRegressor"
   ]
  },
  {
   "cell_type": "code",
   "execution_count": 25,
   "id": "a62e2759",
   "metadata": {
    "execution": {
     "iopub.execute_input": "2022-10-15T17:09:32.599523Z",
     "iopub.status.busy": "2022-10-15T17:09:32.599038Z",
     "iopub.status.idle": "2022-10-15T17:09:37.556411Z",
     "shell.execute_reply": "2022-10-15T17:09:37.554444Z"
    },
    "papermill": {
     "duration": 4.976919,
     "end_time": "2022-10-15T17:09:37.559699",
     "exception": false,
     "start_time": "2022-10-15T17:09:32.582780",
     "status": "completed"
    },
    "tags": []
   },
   "outputs": [
    {
     "name": "stdout",
     "output_type": "stream",
     "text": [
      "MAE: 7547.264\n"
     ]
    }
   ],
   "source": [
    "from sklearn.ensemble import RandomForestRegressor \n",
    "forest_model = RandomForestRegressor(n_estimators=100, max_depth=10)\n",
    "forest_model.fit(x_train, y_train )\n",
    "yhat = forest_model.predict(x_test)\n",
    "mae = mean_absolute_error(y_test, yhat)\n",
    "print('MAE: %.3f' % mae)"
   ]
  },
  {
   "cell_type": "code",
   "execution_count": 26,
   "id": "1a384603",
   "metadata": {
    "execution": {
     "iopub.execute_input": "2022-10-15T17:09:37.595312Z",
     "iopub.status.busy": "2022-10-15T17:09:37.594930Z",
     "iopub.status.idle": "2022-10-15T17:09:37.600742Z",
     "shell.execute_reply": "2022-10-15T17:09:37.600025Z"
    },
    "papermill": {
     "duration": 0.027496,
     "end_time": "2022-10-15T17:09:37.603433",
     "exception": false,
     "start_time": "2022-10-15T17:09:37.575937",
     "status": "completed"
    },
    "tags": []
   },
   "outputs": [
    {
     "name": "stdout",
     "output_type": "stream",
     "text": [
      "R2: 0.974\n"
     ]
    }
   ],
   "source": [
    "R2_Random_Forest = r2_score(y_test,yhat)\n",
    "print('R2: %.3f' %R2_Random_Forest)"
   ]
  },
  {
   "cell_type": "code",
   "execution_count": 27,
   "id": "5d4b215a",
   "metadata": {
    "execution": {
     "iopub.execute_input": "2022-10-15T17:09:37.636720Z",
     "iopub.status.busy": "2022-10-15T17:09:37.636298Z",
     "iopub.status.idle": "2022-10-15T17:09:37.893618Z",
     "shell.execute_reply": "2022-10-15T17:09:37.892084Z"
    },
    "papermill": {
     "duration": 0.277024,
     "end_time": "2022-10-15T17:09:37.896464",
     "exception": false,
     "start_time": "2022-10-15T17:09:37.619440",
     "status": "completed"
    },
    "tags": []
   },
   "outputs": [
    {
     "name": "stdout",
     "output_type": "stream",
     "text": [
      "0.9834241093407713\n"
     ]
    }
   ],
   "source": [
    "print(forest_model.score(x_train, y_train))"
   ]
  },
  {
   "cell_type": "code",
   "execution_count": 28,
   "id": "ac2f31a1",
   "metadata": {
    "execution": {
     "iopub.execute_input": "2022-10-15T17:09:37.928857Z",
     "iopub.status.busy": "2022-10-15T17:09:37.928297Z",
     "iopub.status.idle": "2022-10-15T17:09:38.038855Z",
     "shell.execute_reply": "2022-10-15T17:09:38.037214Z"
    },
    "papermill": {
     "duration": 0.130251,
     "end_time": "2022-10-15T17:09:38.041800",
     "exception": false,
     "start_time": "2022-10-15T17:09:37.911549",
     "status": "completed"
    },
    "tags": []
   },
   "outputs": [
    {
     "name": "stdout",
     "output_type": "stream",
     "text": [
      "0.9737112551889503\n"
     ]
    }
   ],
   "source": [
    "ACC_Random_Forest=Regressor.score(x_test, y_test)\n",
    "print(forest_model.score(x_test, y_test))"
   ]
  },
  {
   "cell_type": "markdown",
   "id": "d497958f",
   "metadata": {
    "papermill": {
     "duration": 0.014872,
     "end_time": "2022-10-15T17:09:38.072691",
     "exception": false,
     "start_time": "2022-10-15T17:09:38.057819",
     "status": "completed"
    },
    "tags": []
   },
   "source": [
    "# XGBRegressor"
   ]
  },
  {
   "cell_type": "code",
   "execution_count": 29,
   "id": "d98f2767",
   "metadata": {
    "execution": {
     "iopub.execute_input": "2022-10-15T17:09:38.110176Z",
     "iopub.status.busy": "2022-10-15T17:09:38.109299Z",
     "iopub.status.idle": "2022-10-15T17:09:39.773147Z",
     "shell.execute_reply": "2022-10-15T17:09:39.772127Z"
    },
    "papermill": {
     "duration": 1.687802,
     "end_time": "2022-10-15T17:09:39.775938",
     "exception": false,
     "start_time": "2022-10-15T17:09:38.088136",
     "status": "completed"
    },
    "tags": []
   },
   "outputs": [
    {
     "name": "stdout",
     "output_type": "stream",
     "text": [
      "MAE: 8223.291\n"
     ]
    }
   ],
   "source": [
    "from xgboost.sklearn import XGBRegressor\n",
    "xgbRegressor = XGBRegressor()\n",
    "xgbRegressor.fit(x_train, y_train)\n",
    "yhat = xgbRegressor.predict(x_test)\n",
    "mae = mean_absolute_error(y_test, yhat)\n",
    "print('MAE: %.3f' % mae)"
   ]
  },
  {
   "cell_type": "code",
   "execution_count": 30,
   "id": "6cd0d9cb",
   "metadata": {
    "execution": {
     "iopub.execute_input": "2022-10-15T17:09:39.810534Z",
     "iopub.status.busy": "2022-10-15T17:09:39.810115Z",
     "iopub.status.idle": "2022-10-15T17:09:39.817836Z",
     "shell.execute_reply": "2022-10-15T17:09:39.816446Z"
    },
    "papermill": {
     "duration": 0.026139,
     "end_time": "2022-10-15T17:09:39.820177",
     "exception": false,
     "start_time": "2022-10-15T17:09:39.794038",
     "status": "completed"
    },
    "tags": []
   },
   "outputs": [
    {
     "name": "stdout",
     "output_type": "stream",
     "text": [
      "R2: 0.970\n"
     ]
    }
   ],
   "source": [
    "R2_XGB = r2_score(y_test,yhat)\n",
    "print('R2: %.3f' %R2_XGB)"
   ]
  },
  {
   "cell_type": "code",
   "execution_count": 31,
   "id": "78478186",
   "metadata": {
    "execution": {
     "iopub.execute_input": "2022-10-15T17:09:39.852614Z",
     "iopub.status.busy": "2022-10-15T17:09:39.852185Z",
     "iopub.status.idle": "2022-10-15T17:09:39.884497Z",
     "shell.execute_reply": "2022-10-15T17:09:39.882995Z"
    },
    "papermill": {
     "duration": 0.052525,
     "end_time": "2022-10-15T17:09:39.888112",
     "exception": false,
     "start_time": "2022-10-15T17:09:39.835587",
     "status": "completed"
    },
    "tags": []
   },
   "outputs": [
    {
     "name": "stdout",
     "output_type": "stream",
     "text": [
      "0.9858305728088887\n"
     ]
    }
   ],
   "source": [
    "print(xgbRegressor.score(x_train, y_train))"
   ]
  },
  {
   "cell_type": "code",
   "execution_count": 32,
   "id": "9c29f899",
   "metadata": {
    "execution": {
     "iopub.execute_input": "2022-10-15T17:09:39.922373Z",
     "iopub.status.busy": "2022-10-15T17:09:39.921938Z",
     "iopub.status.idle": "2022-10-15T17:09:39.950670Z",
     "shell.execute_reply": "2022-10-15T17:09:39.949635Z"
    },
    "papermill": {
     "duration": 0.047882,
     "end_time": "2022-10-15T17:09:39.953179",
     "exception": false,
     "start_time": "2022-10-15T17:09:39.905297",
     "status": "completed"
    },
    "tags": []
   },
   "outputs": [
    {
     "name": "stdout",
     "output_type": "stream",
     "text": [
      "0.9702392720623684\n"
     ]
    }
   ],
   "source": [
    "ACC_XGB=xgbRegressor.score(x_test, y_test)\n",
    "print(xgbRegressor.score(x_test, y_test))"
   ]
  },
  {
   "cell_type": "markdown",
   "id": "b012d35b",
   "metadata": {
    "papermill": {
     "duration": 0.014829,
     "end_time": "2022-10-15T17:09:39.984929",
     "exception": false,
     "start_time": "2022-10-15T17:09:39.970100",
     "status": "completed"
    },
    "tags": []
   },
   "source": [
    "# BayesianRidge"
   ]
  },
  {
   "cell_type": "code",
   "execution_count": 33,
   "id": "ab683061",
   "metadata": {
    "execution": {
     "iopub.execute_input": "2022-10-15T17:09:40.016872Z",
     "iopub.status.busy": "2022-10-15T17:09:40.016475Z",
     "iopub.status.idle": "2022-10-15T17:09:40.082405Z",
     "shell.execute_reply": "2022-10-15T17:09:40.078766Z"
    },
    "papermill": {
     "duration": 0.087687,
     "end_time": "2022-10-15T17:09:40.087717",
     "exception": false,
     "start_time": "2022-10-15T17:09:40.000030",
     "status": "completed"
    },
    "tags": []
   },
   "outputs": [
    {
     "name": "stdout",
     "output_type": "stream",
     "text": [
      "MAE: 62592.345\n"
     ]
    }
   ],
   "source": [
    "from sklearn.linear_model import BayesianRidge\n",
    "\n",
    "brRegressor = BayesianRidge()\n",
    "brRegressor.fit(x_train, y_train)\n",
    "yhat = brRegressor.predict(x_test)\n",
    "mae = mean_absolute_error(y_test, yhat)\n",
    "print('MAE: %.3f' % mae)"
   ]
  },
  {
   "cell_type": "code",
   "execution_count": 34,
   "id": "6c49e072",
   "metadata": {
    "execution": {
     "iopub.execute_input": "2022-10-15T17:09:40.199255Z",
     "iopub.status.busy": "2022-10-15T17:09:40.198816Z",
     "iopub.status.idle": "2022-10-15T17:09:40.211414Z",
     "shell.execute_reply": "2022-10-15T17:09:40.209272Z"
    },
    "papermill": {
     "duration": 0.054782,
     "end_time": "2022-10-15T17:09:40.215374",
     "exception": false,
     "start_time": "2022-10-15T17:09:40.160592",
     "status": "completed"
    },
    "tags": []
   },
   "outputs": [
    {
     "name": "stdout",
     "output_type": "stream",
     "text": [
      "0.08237814844300106\n"
     ]
    }
   ],
   "source": [
    "print(brRegressor.score(x_train, y_train))"
   ]
  },
  {
   "cell_type": "markdown",
   "id": "a4c17804",
   "metadata": {
    "papermill": {
     "duration": 0.039453,
     "end_time": "2022-10-15T17:09:40.294302",
     "exception": false,
     "start_time": "2022-10-15T17:09:40.254849",
     "status": "completed"
    },
    "tags": []
   },
   "source": [
    "# ExtraTreesRegressor"
   ]
  },
  {
   "cell_type": "code",
   "execution_count": 35,
   "id": "40e5649d",
   "metadata": {
    "execution": {
     "iopub.execute_input": "2022-10-15T17:09:40.345397Z",
     "iopub.status.busy": "2022-10-15T17:09:40.345011Z",
     "iopub.status.idle": "2022-10-15T17:09:43.745860Z",
     "shell.execute_reply": "2022-10-15T17:09:43.744698Z"
    },
    "papermill": {
     "duration": 3.419861,
     "end_time": "2022-10-15T17:09:43.748262",
     "exception": false,
     "start_time": "2022-10-15T17:09:40.328401",
     "status": "completed"
    },
    "tags": []
   },
   "outputs": [
    {
     "name": "stdout",
     "output_type": "stream",
     "text": [
      "MAE: 2793.139\n"
     ]
    }
   ],
   "source": [
    "from sklearn.ensemble import ExtraTreesRegressor\n",
    "reg = ExtraTreesRegressor(n_estimators=100, random_state=0).fit( x_train, y_train)\n",
    "yhat = reg.predict(x_test)\n",
    "mae = mean_absolute_error(y_test, yhat)\n",
    "print('MAE: %.3f' % mae)"
   ]
  },
  {
   "cell_type": "code",
   "execution_count": 36,
   "id": "be31fbc1",
   "metadata": {
    "execution": {
     "iopub.execute_input": "2022-10-15T17:09:43.782164Z",
     "iopub.status.busy": "2022-10-15T17:09:43.781513Z",
     "iopub.status.idle": "2022-10-15T17:09:43.788715Z",
     "shell.execute_reply": "2022-10-15T17:09:43.787159Z"
    },
    "papermill": {
     "duration": 0.027702,
     "end_time": "2022-10-15T17:09:43.791690",
     "exception": false,
     "start_time": "2022-10-15T17:09:43.763988",
     "status": "completed"
    },
    "tags": []
   },
   "outputs": [
    {
     "name": "stdout",
     "output_type": "stream",
     "text": [
      "R2: 0.991\n"
     ]
    }
   ],
   "source": [
    "R2_ExtraTrees = r2_score(y_test,yhat)\n",
    "print('R2: %.3f' %R2_ExtraTrees)"
   ]
  },
  {
   "cell_type": "code",
   "execution_count": 37,
   "id": "ae7b0f77",
   "metadata": {
    "execution": {
     "iopub.execute_input": "2022-10-15T17:09:43.825306Z",
     "iopub.status.busy": "2022-10-15T17:09:43.824907Z",
     "iopub.status.idle": "2022-10-15T17:09:44.397733Z",
     "shell.execute_reply": "2022-10-15T17:09:44.396435Z"
    },
    "papermill": {
     "duration": 0.592694,
     "end_time": "2022-10-15T17:09:44.400407",
     "exception": false,
     "start_time": "2022-10-15T17:09:43.807713",
     "status": "completed"
    },
    "tags": []
   },
   "outputs": [
    {
     "name": "stdout",
     "output_type": "stream",
     "text": [
      "0.9999999999966703\n"
     ]
    }
   ],
   "source": [
    "print(reg.score(x_train, y_train))"
   ]
  },
  {
   "cell_type": "code",
   "execution_count": 38,
   "id": "47adb9a5",
   "metadata": {
    "execution": {
     "iopub.execute_input": "2022-10-15T17:09:44.434155Z",
     "iopub.status.busy": "2022-10-15T17:09:44.433730Z",
     "iopub.status.idle": "2022-10-15T17:09:44.896093Z",
     "shell.execute_reply": "2022-10-15T17:09:44.894498Z"
    },
    "papermill": {
     "duration": 0.482033,
     "end_time": "2022-10-15T17:09:44.898782",
     "exception": false,
     "start_time": "2022-10-15T17:09:44.416749",
     "status": "completed"
    },
    "tags": []
   },
   "outputs": [
    {
     "name": "stdout",
     "output_type": "stream",
     "text": [
      "0.9911136377475241\n"
     ]
    }
   ],
   "source": [
    "ACC_ExtraTrees=reg.score(x_test, y_test)\n",
    "print(reg.score(x_test, y_test))"
   ]
  },
  {
   "cell_type": "markdown",
   "id": "b20d11d3",
   "metadata": {
    "papermill": {
     "duration": 0.015157,
     "end_time": "2022-10-15T17:09:44.929578",
     "exception": false,
     "start_time": "2022-10-15T17:09:44.914421",
     "status": "completed"
    },
    "tags": []
   },
   "source": [
    "# LinearRegression"
   ]
  },
  {
   "cell_type": "code",
   "execution_count": 39,
   "id": "9d2cff57",
   "metadata": {
    "execution": {
     "iopub.execute_input": "2022-10-15T17:09:44.962667Z",
     "iopub.status.busy": "2022-10-15T17:09:44.962224Z",
     "iopub.status.idle": "2022-10-15T17:09:44.987764Z",
     "shell.execute_reply": "2022-10-15T17:09:44.986422Z"
    },
    "papermill": {
     "duration": 0.048729,
     "end_time": "2022-10-15T17:09:44.993938",
     "exception": false,
     "start_time": "2022-10-15T17:09:44.945209",
     "status": "completed"
    },
    "tags": []
   },
   "outputs": [
    {
     "name": "stdout",
     "output_type": "stream",
     "text": [
      "MAE: 62584.394\n"
     ]
    }
   ],
   "source": [
    "from sklearn.linear_model import LinearRegression\n",
    "linear = LinearRegression()\n",
    "linear.fit(x_train,y_train)\n",
    "yhat = linear.predict(x_test)\n",
    "mae = mean_absolute_error(y_test, yhat)\n",
    "print('MAE: %.3f' % mae)"
   ]
  },
  {
   "cell_type": "code",
   "execution_count": 40,
   "id": "0f295ac0",
   "metadata": {
    "execution": {
     "iopub.execute_input": "2022-10-15T17:09:45.114454Z",
     "iopub.status.busy": "2022-10-15T17:09:45.114024Z",
     "iopub.status.idle": "2022-10-15T17:09:45.124859Z",
     "shell.execute_reply": "2022-10-15T17:09:45.122404Z"
    },
    "papermill": {
     "duration": 0.049485,
     "end_time": "2022-10-15T17:09:45.129387",
     "exception": false,
     "start_time": "2022-10-15T17:09:45.079902",
     "status": "completed"
    },
    "tags": []
   },
   "outputs": [
    {
     "name": "stdout",
     "output_type": "stream",
     "text": [
      "0.08240465181678303\n"
     ]
    }
   ],
   "source": [
    "print(linear.score(x_train, y_train))"
   ]
  },
  {
   "cell_type": "markdown",
   "id": "159bcb9e",
   "metadata": {
    "papermill": {
     "duration": 0.039774,
     "end_time": "2022-10-15T17:09:45.209621",
     "exception": false,
     "start_time": "2022-10-15T17:09:45.169847",
     "status": "completed"
    },
    "tags": []
   },
   "source": [
    "# AdaBoostRegressor"
   ]
  },
  {
   "cell_type": "code",
   "execution_count": 41,
   "id": "4016d986",
   "metadata": {
    "execution": {
     "iopub.execute_input": "2022-10-15T17:09:45.261250Z",
     "iopub.status.busy": "2022-10-15T17:09:45.260028Z",
     "iopub.status.idle": "2022-10-15T17:09:45.872048Z",
     "shell.execute_reply": "2022-10-15T17:09:45.870837Z"
    },
    "papermill": {
     "duration": 0.631423,
     "end_time": "2022-10-15T17:09:45.874610",
     "exception": false,
     "start_time": "2022-10-15T17:09:45.243187",
     "status": "completed"
    },
    "tags": []
   },
   "outputs": [
    {
     "data": {
      "text/plain": [
       "AdaBoostRegressor(learning_rate=0.5, n_estimators=20)"
      ]
     },
     "execution_count": 41,
     "metadata": {},
     "output_type": "execute_result"
    }
   ],
   "source": [
    "from sklearn.ensemble import AdaBoostRegressor\n",
    "ada = AdaBoostRegressor(n_estimators=20,learning_rate=0.5)\n",
    "ada.fit(x_train , y_train)"
   ]
  },
  {
   "cell_type": "code",
   "execution_count": 42,
   "id": "b5c26e89",
   "metadata": {
    "execution": {
     "iopub.execute_input": "2022-10-15T17:09:45.907940Z",
     "iopub.status.busy": "2022-10-15T17:09:45.907130Z",
     "iopub.status.idle": "2022-10-15T17:09:45.959936Z",
     "shell.execute_reply": "2022-10-15T17:09:45.958834Z"
    },
    "papermill": {
     "duration": 0.072078,
     "end_time": "2022-10-15T17:09:45.962474",
     "exception": false,
     "start_time": "2022-10-15T17:09:45.890396",
     "status": "completed"
    },
    "tags": []
   },
   "outputs": [
    {
     "data": {
      "text/plain": [
       "0.6206268719988512"
      ]
     },
     "execution_count": 42,
     "metadata": {},
     "output_type": "execute_result"
    }
   ],
   "source": [
    "ada.score(x_train , y_train )"
   ]
  },
  {
   "cell_type": "code",
   "execution_count": 43,
   "id": "36c8b958",
   "metadata": {
    "execution": {
     "iopub.execute_input": "2022-10-15T17:09:45.996800Z",
     "iopub.status.busy": "2022-10-15T17:09:45.996339Z",
     "iopub.status.idle": "2022-10-15T17:09:46.030495Z",
     "shell.execute_reply": "2022-10-15T17:09:46.029442Z"
    },
    "papermill": {
     "duration": 0.054017,
     "end_time": "2022-10-15T17:09:46.033072",
     "exception": false,
     "start_time": "2022-10-15T17:09:45.979055",
     "status": "completed"
    },
    "tags": []
   },
   "outputs": [
    {
     "data": {
      "text/plain": [
       "0.6278582549406692"
      ]
     },
     "execution_count": 43,
     "metadata": {},
     "output_type": "execute_result"
    }
   ],
   "source": [
    "ACC_Ada=ada.score(x_test , y_test )\n",
    "ada.score(x_test , y_test )"
   ]
  },
  {
   "cell_type": "code",
   "execution_count": 44,
   "id": "08f6ccb1",
   "metadata": {
    "execution": {
     "iopub.execute_input": "2022-10-15T17:09:46.067492Z",
     "iopub.status.busy": "2022-10-15T17:09:46.066959Z",
     "iopub.status.idle": "2022-10-15T17:09:46.086926Z",
     "shell.execute_reply": "2022-10-15T17:09:46.085617Z"
    },
    "papermill": {
     "duration": 0.040139,
     "end_time": "2022-10-15T17:09:46.089138",
     "exception": false,
     "start_time": "2022-10-15T17:09:46.048999",
     "status": "completed"
    },
    "tags": []
   },
   "outputs": [
    {
     "name": "stdout",
     "output_type": "stream",
     "text": [
      "R2: 0.628\n"
     ]
    }
   ],
   "source": [
    "yhat = ada.predict(x_test)\n",
    "mae = mean_absolute_error(y_test, yhat)\n",
    "R2_AdaBoost = r2_score(y_test,yhat)\n",
    "print('R2: %.3f' %R2_AdaBoost)"
   ]
  },
  {
   "cell_type": "code",
   "execution_count": 45,
   "id": "88ce7d29",
   "metadata": {
    "execution": {
     "iopub.execute_input": "2022-10-15T17:09:46.122711Z",
     "iopub.status.busy": "2022-10-15T17:09:46.122287Z",
     "iopub.status.idle": "2022-10-15T17:09:46.342264Z",
     "shell.execute_reply": "2022-10-15T17:09:46.340832Z"
    },
    "papermill": {
     "duration": 0.239888,
     "end_time": "2022-10-15T17:09:46.344925",
     "exception": false,
     "start_time": "2022-10-15T17:09:46.105037",
     "status": "completed"
    },
    "tags": []
   },
   "outputs": [
    {
     "data": {
      "image/png": "[encoded data removed]",
      "text/plain": [
       "<Figure size 720x576 with 1 Axes>"
      ]
     },
     "metadata": {
      "needs_background": "light"
     },
     "output_type": "display_data"
    }
   ],
   "source": [
    "Error = [R2_Decision_Tree , R2_Random_Forest , R2_XGB , R2_ExtraTrees , R2_AdaBoost]\n",
    "dataPerf = pd.DataFrame(data={'Models': ['Decision_Tree', 'Random_Forest', 'XGB','ExtraTrees','AdaBoost'] ,\n",
    "                              'Error': Error ,\n",
    "                              'Accuracy':[ACC_Decision,ACC_Random_Forest,ACC_XGB,ACC_ExtraTrees,ACC_Ada]})\n",
    "\n",
    "plt.figure(figsize=(10, 8))\n",
    "sns.barplot(x=\"Models\", y=\"Error\", data=dataPerf, palette=\"magma\")\n",
    "plt.title('Num of Models with their R2')\n",
    "plt.show()"
   ]
  },
  {
   "cell_type": "code",
   "execution_count": 46,
   "id": "abfa6fc7",
   "metadata": {
    "execution": {
     "iopub.execute_input": "2022-10-15T17:09:46.380208Z",
     "iopub.status.busy": "2022-10-15T17:09:46.378964Z",
     "iopub.status.idle": "2022-10-15T17:09:46.592915Z",
     "shell.execute_reply": "2022-10-15T17:09:46.592089Z"
    },
    "papermill": {
     "duration": 0.233778,
     "end_time": "2022-10-15T17:09:46.595223",
     "exception": false,
     "start_time": "2022-10-15T17:09:46.361445",
     "status": "completed"
    },
    "tags": []
   },
   "outputs": [
    {
     "data": {
      "image/png": "[encoded data removed]",
      "text/plain": [
       "<Figure size 720x576 with 1 Axes>"
      ]
     },
     "metadata": {
      "needs_background": "light"
     },
     "output_type": "display_data"
    }
   ],
   "source": [
    "plt.figure(figsize=(10, 8))\n",
    "sns.barplot(x=\"Models\", y=\"Accuracy\", data=dataPerf, palette=\"magma\")\n",
    "plt.title('Models with their Accuracy')\n",
    "plt.show()"
   ]
  }
 ],
 "metadata": {
  "kernelspec": {
   "display_name": "Python 3",
   "language": "python",
   "name": "python3"
  },
  "language_info": {
   "codemirror_mode": {
    "name": "ipython",
    "version": 3
   },
   "file_extension": ".py",
   "mimetype": "text/x-python",
   "name": "python",
   "nbconvert_exporter": "python",
   "pygments_lexer": "ipython3",
   "version": "3.7.12"
  },
  "papermill": {
   "default_parameters": {},
   "duration": 29.186297,
   "end_time": "2022-10-15T17:09:47.535211",
   "environment_variables": {},
   "exception": null,
   "input_path": "__notebook__.ipynb",
   "output_path": "__notebook__.ipynb",
   "parameters": {},
   "start_time": "2022-10-15T17:09:18.348914",
   "version": "2.3.4"
  }
 },
 "nbformat": 4,
 "nbformat_minor": 5
}
