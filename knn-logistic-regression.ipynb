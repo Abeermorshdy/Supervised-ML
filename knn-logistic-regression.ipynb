{
 "cells": [
  {
   "cell_type": "code",
   "execution_count": 1,
   "id": "12572ab5",
   "metadata": {
    "execution": {
     "iopub.execute_input": "2022-09-07T16:34:14.517838Z",
     "iopub.status.busy": "2022-09-07T16:34:14.516560Z",
     "iopub.status.idle": "2022-09-07T16:34:15.955905Z",
     "shell.execute_reply": "2022-09-07T16:34:15.954495Z"
    },
    "papermill": {
     "duration": 1.457829,
     "end_time": "2022-09-07T16:34:15.959095",
     "exception": false,
     "start_time": "2022-09-07T16:34:14.501266",
     "status": "completed"
    },
    "tags": []
   },
   "outputs": [],
   "source": [
    "import numpy as np\n",
    "import pandas as pd\n",
    "import seaborn as sns\n",
    "import matplotlib.pyplot as plt\n",
    "from sklearn import preprocessing\n",
    "from sklearn.model_selection import train_test_split\n",
    "from sklearn.neighbors import KNeighborsClassifier\n",
    "from sklearn.linear_model import LogisticRegression\n",
    "from sklearn.metrics import accuracy_score\n"
   ]
  },
  {
   "cell_type": "code",
   "execution_count": 2,
   "id": "e29d9c4a",
   "metadata": {
    "execution": {
     "iopub.execute_input": "2022-09-07T16:34:15.984215Z",
     "iopub.status.busy": "2022-09-07T16:34:15.983768Z",
     "iopub.status.idle": "2022-09-07T16:34:16.423757Z",
     "shell.execute_reply": "2022-09-07T16:34:16.422451Z"
    },
    "papermill": {
     "duration": 0.45586,
     "end_time": "2022-09-07T16:34:16.426734",
     "exception": false,
     "start_time": "2022-09-07T16:34:15.970874",
     "status": "completed"
    },
    "tags": []
   },
   "outputs": [],
   "source": [
    "data=pd.read_csv('../input/airline-passenger-satisfaction/airline_passenger_satisfaction.csv')"
   ]
  },
  {
   "cell_type": "markdown",
   "id": "63bc77c7",
   "metadata": {
    "papermill": {
     "duration": 0.011292,
     "end_time": "2022-09-07T16:34:16.449738",
     "exception": false,
     "start_time": "2022-09-07T16:34:16.438446",
     "status": "completed"
    },
    "tags": []
   },
   "source": [
    "# Exploring our Data"
   ]
  },
  {
   "cell_type": "code",
   "execution_count": 3,
   "id": "b3abeea2",
   "metadata": {
    "execution": {
     "iopub.execute_input": "2022-09-07T16:34:16.476871Z",
     "iopub.status.busy": "2022-09-07T16:34:16.476450Z",
     "iopub.status.idle": "2022-09-07T16:34:16.568775Z",
     "shell.execute_reply": "2022-09-07T16:34:16.567499Z"
    },
    "papermill": {
     "duration": 0.108777,
     "end_time": "2022-09-07T16:34:16.571956",
     "exception": false,
     "start_time": "2022-09-07T16:34:16.463179",
     "status": "completed"
    },
    "tags": []
   },
   "outputs": [
    {
     "data": {
      "text/html": [
       "<div>\n",
       "<style scoped>\n",
       "    .dataframe tbody tr th:only-of-type {\n",
       "        vertical-align: middle;\n",
       "    }\n",
       "\n",
       "    .dataframe tbody tr th {\n",
       "        vertical-align: top;\n",
       "    }\n",
       "\n",
       "    .dataframe thead th {\n",
       "        text-align: right;\n",
       "    }\n",
       "</style>\n",
       "<table border=\"1\" class=\"dataframe\">\n",
       "  <thead>\n",
       "    <tr style=\"text-align: right;\">\n",
       "      <th></th>\n",
       "      <th>ID</th>\n",
       "      <th>Gender</th>\n",
       "      <th>Age</th>\n",
       "      <th>Customer Type</th>\n",
       "      <th>Type of Travel</th>\n",
       "      <th>Class</th>\n",
       "      <th>Flight Distance</th>\n",
       "      <th>Departure Delay</th>\n",
       "      <th>Arrival Delay</th>\n",
       "      <th>Departure and Arrival Time Convenience</th>\n",
       "      <th>...</th>\n",
       "      <th>On-board Service</th>\n",
       "      <th>Seat Comfort</th>\n",
       "      <th>Leg Room Service</th>\n",
       "      <th>Cleanliness</th>\n",
       "      <th>Food and Drink</th>\n",
       "      <th>In-flight Service</th>\n",
       "      <th>In-flight Wifi Service</th>\n",
       "      <th>In-flight Entertainment</th>\n",
       "      <th>Baggage Handling</th>\n",
       "      <th>Satisfaction</th>\n",
       "    </tr>\n",
       "  </thead>\n",
       "  <tbody>\n",
       "    <tr>\n",
       "      <th>0</th>\n",
       "      <td>1</td>\n",
       "      <td>Male</td>\n",
       "      <td>48</td>\n",
       "      <td>First-time</td>\n",
       "      <td>Business</td>\n",
       "      <td>Business</td>\n",
       "      <td>821</td>\n",
       "      <td>2</td>\n",
       "      <td>5.0</td>\n",
       "      <td>3</td>\n",
       "      <td>...</td>\n",
       "      <td>3</td>\n",
       "      <td>5</td>\n",
       "      <td>2</td>\n",
       "      <td>5</td>\n",
       "      <td>5</td>\n",
       "      <td>5</td>\n",
       "      <td>3</td>\n",
       "      <td>5</td>\n",
       "      <td>5</td>\n",
       "      <td>Neutral or Dissatisfied</td>\n",
       "    </tr>\n",
       "    <tr>\n",
       "      <th>1</th>\n",
       "      <td>2</td>\n",
       "      <td>Female</td>\n",
       "      <td>35</td>\n",
       "      <td>Returning</td>\n",
       "      <td>Business</td>\n",
       "      <td>Business</td>\n",
       "      <td>821</td>\n",
       "      <td>26</td>\n",
       "      <td>39.0</td>\n",
       "      <td>2</td>\n",
       "      <td>...</td>\n",
       "      <td>5</td>\n",
       "      <td>4</td>\n",
       "      <td>5</td>\n",
       "      <td>5</td>\n",
       "      <td>3</td>\n",
       "      <td>5</td>\n",
       "      <td>2</td>\n",
       "      <td>5</td>\n",
       "      <td>5</td>\n",
       "      <td>Satisfied</td>\n",
       "    </tr>\n",
       "    <tr>\n",
       "      <th>2</th>\n",
       "      <td>3</td>\n",
       "      <td>Male</td>\n",
       "      <td>41</td>\n",
       "      <td>Returning</td>\n",
       "      <td>Business</td>\n",
       "      <td>Business</td>\n",
       "      <td>853</td>\n",
       "      <td>0</td>\n",
       "      <td>0.0</td>\n",
       "      <td>4</td>\n",
       "      <td>...</td>\n",
       "      <td>3</td>\n",
       "      <td>5</td>\n",
       "      <td>3</td>\n",
       "      <td>5</td>\n",
       "      <td>5</td>\n",
       "      <td>3</td>\n",
       "      <td>4</td>\n",
       "      <td>3</td>\n",
       "      <td>3</td>\n",
       "      <td>Satisfied</td>\n",
       "    </tr>\n",
       "    <tr>\n",
       "      <th>3</th>\n",
       "      <td>4</td>\n",
       "      <td>Male</td>\n",
       "      <td>50</td>\n",
       "      <td>Returning</td>\n",
       "      <td>Business</td>\n",
       "      <td>Business</td>\n",
       "      <td>1905</td>\n",
       "      <td>0</td>\n",
       "      <td>0.0</td>\n",
       "      <td>2</td>\n",
       "      <td>...</td>\n",
       "      <td>5</td>\n",
       "      <td>5</td>\n",
       "      <td>5</td>\n",
       "      <td>4</td>\n",
       "      <td>4</td>\n",
       "      <td>5</td>\n",
       "      <td>2</td>\n",
       "      <td>5</td>\n",
       "      <td>5</td>\n",
       "      <td>Satisfied</td>\n",
       "    </tr>\n",
       "    <tr>\n",
       "      <th>4</th>\n",
       "      <td>5</td>\n",
       "      <td>Female</td>\n",
       "      <td>49</td>\n",
       "      <td>Returning</td>\n",
       "      <td>Business</td>\n",
       "      <td>Business</td>\n",
       "      <td>3470</td>\n",
       "      <td>0</td>\n",
       "      <td>1.0</td>\n",
       "      <td>3</td>\n",
       "      <td>...</td>\n",
       "      <td>3</td>\n",
       "      <td>4</td>\n",
       "      <td>4</td>\n",
       "      <td>5</td>\n",
       "      <td>4</td>\n",
       "      <td>3</td>\n",
       "      <td>3</td>\n",
       "      <td>3</td>\n",
       "      <td>3</td>\n",
       "      <td>Satisfied</td>\n",
       "    </tr>\n",
       "    <tr>\n",
       "      <th>...</th>\n",
       "      <td>...</td>\n",
       "      <td>...</td>\n",
       "      <td>...</td>\n",
       "      <td>...</td>\n",
       "      <td>...</td>\n",
       "      <td>...</td>\n",
       "      <td>...</td>\n",
       "      <td>...</td>\n",
       "      <td>...</td>\n",
       "      <td>...</td>\n",
       "      <td>...</td>\n",
       "      <td>...</td>\n",
       "      <td>...</td>\n",
       "      <td>...</td>\n",
       "      <td>...</td>\n",
       "      <td>...</td>\n",
       "      <td>...</td>\n",
       "      <td>...</td>\n",
       "      <td>...</td>\n",
       "      <td>...</td>\n",
       "      <td>...</td>\n",
       "    </tr>\n",
       "    <tr>\n",
       "      <th>129875</th>\n",
       "      <td>129876</td>\n",
       "      <td>Male</td>\n",
       "      <td>28</td>\n",
       "      <td>Returning</td>\n",
       "      <td>Personal</td>\n",
       "      <td>Economy Plus</td>\n",
       "      <td>447</td>\n",
       "      <td>2</td>\n",
       "      <td>3.0</td>\n",
       "      <td>4</td>\n",
       "      <td>...</td>\n",
       "      <td>5</td>\n",
       "      <td>1</td>\n",
       "      <td>4</td>\n",
       "      <td>4</td>\n",
       "      <td>4</td>\n",
       "      <td>5</td>\n",
       "      <td>4</td>\n",
       "      <td>4</td>\n",
       "      <td>4</td>\n",
       "      <td>Neutral or Dissatisfied</td>\n",
       "    </tr>\n",
       "    <tr>\n",
       "      <th>129876</th>\n",
       "      <td>129877</td>\n",
       "      <td>Male</td>\n",
       "      <td>41</td>\n",
       "      <td>Returning</td>\n",
       "      <td>Personal</td>\n",
       "      <td>Economy Plus</td>\n",
       "      <td>308</td>\n",
       "      <td>0</td>\n",
       "      <td>0.0</td>\n",
       "      <td>5</td>\n",
       "      <td>...</td>\n",
       "      <td>5</td>\n",
       "      <td>2</td>\n",
       "      <td>5</td>\n",
       "      <td>2</td>\n",
       "      <td>2</td>\n",
       "      <td>4</td>\n",
       "      <td>3</td>\n",
       "      <td>2</td>\n",
       "      <td>5</td>\n",
       "      <td>Neutral or Dissatisfied</td>\n",
       "    </tr>\n",
       "    <tr>\n",
       "      <th>129877</th>\n",
       "      <td>129878</td>\n",
       "      <td>Male</td>\n",
       "      <td>42</td>\n",
       "      <td>Returning</td>\n",
       "      <td>Personal</td>\n",
       "      <td>Economy Plus</td>\n",
       "      <td>337</td>\n",
       "      <td>6</td>\n",
       "      <td>14.0</td>\n",
       "      <td>5</td>\n",
       "      <td>...</td>\n",
       "      <td>3</td>\n",
       "      <td>3</td>\n",
       "      <td>4</td>\n",
       "      <td>3</td>\n",
       "      <td>3</td>\n",
       "      <td>4</td>\n",
       "      <td>2</td>\n",
       "      <td>3</td>\n",
       "      <td>5</td>\n",
       "      <td>Neutral or Dissatisfied</td>\n",
       "    </tr>\n",
       "    <tr>\n",
       "      <th>129878</th>\n",
       "      <td>129879</td>\n",
       "      <td>Male</td>\n",
       "      <td>50</td>\n",
       "      <td>Returning</td>\n",
       "      <td>Personal</td>\n",
       "      <td>Economy Plus</td>\n",
       "      <td>337</td>\n",
       "      <td>31</td>\n",
       "      <td>22.0</td>\n",
       "      <td>4</td>\n",
       "      <td>...</td>\n",
       "      <td>4</td>\n",
       "      <td>4</td>\n",
       "      <td>5</td>\n",
       "      <td>3</td>\n",
       "      <td>3</td>\n",
       "      <td>4</td>\n",
       "      <td>5</td>\n",
       "      <td>3</td>\n",
       "      <td>5</td>\n",
       "      <td>Satisfied</td>\n",
       "    </tr>\n",
       "    <tr>\n",
       "      <th>129879</th>\n",
       "      <td>129880</td>\n",
       "      <td>Female</td>\n",
       "      <td>20</td>\n",
       "      <td>Returning</td>\n",
       "      <td>Personal</td>\n",
       "      <td>Economy Plus</td>\n",
       "      <td>337</td>\n",
       "      <td>0</td>\n",
       "      <td>0.0</td>\n",
       "      <td>1</td>\n",
       "      <td>...</td>\n",
       "      <td>4</td>\n",
       "      <td>2</td>\n",
       "      <td>4</td>\n",
       "      <td>2</td>\n",
       "      <td>2</td>\n",
       "      <td>2</td>\n",
       "      <td>3</td>\n",
       "      <td>2</td>\n",
       "      <td>1</td>\n",
       "      <td>Neutral or Dissatisfied</td>\n",
       "    </tr>\n",
       "  </tbody>\n",
       "</table>\n",
       "<p>129880 rows × 24 columns</p>\n",
       "</div>"
      ],
      "text/plain": [
       "            ID  Gender  Age Customer Type Type of Travel         Class  \\\n",
       "0            1    Male   48    First-time       Business      Business   \n",
       "1            2  Female   35     Returning       Business      Business   \n",
       "2            3    Male   41     Returning       Business      Business   \n",
       "3            4    Male   50     Returning       Business      Business   \n",
       "4            5  Female   49     Returning       Business      Business   \n",
       "...        ...     ...  ...           ...            ...           ...   \n",
       "129875  129876    Male   28     Returning       Personal  Economy Plus   \n",
       "129876  129877    Male   41     Returning       Personal  Economy Plus   \n",
       "129877  129878    Male   42     Returning       Personal  Economy Plus   \n",
       "129878  129879    Male   50     Returning       Personal  Economy Plus   \n",
       "129879  129880  Female   20     Returning       Personal  Economy Plus   \n",
       "\n",
       "        Flight Distance  Departure Delay  Arrival Delay  \\\n",
       "0                   821                2            5.0   \n",
       "1                   821               26           39.0   \n",
       "2                   853                0            0.0   \n",
       "3                  1905                0            0.0   \n",
       "4                  3470                0            1.0   \n",
       "...                 ...              ...            ...   \n",
       "129875              447                2            3.0   \n",
       "129876              308                0            0.0   \n",
       "129877              337                6           14.0   \n",
       "129878              337               31           22.0   \n",
       "129879              337                0            0.0   \n",
       "\n",
       "        Departure and Arrival Time Convenience  ...  On-board Service  \\\n",
       "0                                            3  ...                 3   \n",
       "1                                            2  ...                 5   \n",
       "2                                            4  ...                 3   \n",
       "3                                            2  ...                 5   \n",
       "4                                            3  ...                 3   \n",
       "...                                        ...  ...               ...   \n",
       "129875                                       4  ...                 5   \n",
       "129876                                       5  ...                 5   \n",
       "129877                                       5  ...                 3   \n",
       "129878                                       4  ...                 4   \n",
       "129879                                       1  ...                 4   \n",
       "\n",
       "        Seat Comfort  Leg Room Service  Cleanliness  Food and Drink  \\\n",
       "0                  5                 2            5               5   \n",
       "1                  4                 5            5               3   \n",
       "2                  5                 3            5               5   \n",
       "3                  5                 5            4               4   \n",
       "4                  4                 4            5               4   \n",
       "...              ...               ...          ...             ...   \n",
       "129875             1                 4            4               4   \n",
       "129876             2                 5            2               2   \n",
       "129877             3                 4            3               3   \n",
       "129878             4                 5            3               3   \n",
       "129879             2                 4            2               2   \n",
       "\n",
       "        In-flight Service  In-flight Wifi Service  In-flight Entertainment  \\\n",
       "0                       5                       3                        5   \n",
       "1                       5                       2                        5   \n",
       "2                       3                       4                        3   \n",
       "3                       5                       2                        5   \n",
       "4                       3                       3                        3   \n",
       "...                   ...                     ...                      ...   \n",
       "129875                  5                       4                        4   \n",
       "129876                  4                       3                        2   \n",
       "129877                  4                       2                        3   \n",
       "129878                  4                       5                        3   \n",
       "129879                  2                       3                        2   \n",
       "\n",
       "        Baggage Handling             Satisfaction  \n",
       "0                      5  Neutral or Dissatisfied  \n",
       "1                      5                Satisfied  \n",
       "2                      3                Satisfied  \n",
       "3                      5                Satisfied  \n",
       "4                      3                Satisfied  \n",
       "...                  ...                      ...  \n",
       "129875                 4  Neutral or Dissatisfied  \n",
       "129876                 5  Neutral or Dissatisfied  \n",
       "129877                 5  Neutral or Dissatisfied  \n",
       "129878                 5                Satisfied  \n",
       "129879                 1  Neutral or Dissatisfied  \n",
       "\n",
       "[129880 rows x 24 columns]"
      ]
     },
     "execution_count": 3,
     "metadata": {},
     "output_type": "execute_result"
    }
   ],
   "source": [
    "data"
   ]
  },
  {
   "cell_type": "code",
   "execution_count": 4,
   "id": "75dfec9a",
   "metadata": {
    "execution": {
     "iopub.execute_input": "2022-09-07T16:34:16.598285Z",
     "iopub.status.busy": "2022-09-07T16:34:16.597858Z",
     "iopub.status.idle": "2022-09-07T16:34:16.605530Z",
     "shell.execute_reply": "2022-09-07T16:34:16.604326Z"
    },
    "papermill": {
     "duration": 0.0236,
     "end_time": "2022-09-07T16:34:16.608007",
     "exception": false,
     "start_time": "2022-09-07T16:34:16.584407",
     "status": "completed"
    },
    "tags": []
   },
   "outputs": [
    {
     "data": {
      "text/plain": [
       "(129880, 24)"
      ]
     },
     "execution_count": 4,
     "metadata": {},
     "output_type": "execute_result"
    }
   ],
   "source": [
    "data.shape"
   ]
  },
  {
   "cell_type": "code",
   "execution_count": 5,
   "id": "e988c0a2",
   "metadata": {
    "execution": {
     "iopub.execute_input": "2022-09-07T16:34:16.634542Z",
     "iopub.status.busy": "2022-09-07T16:34:16.634087Z",
     "iopub.status.idle": "2022-09-07T16:34:16.693460Z",
     "shell.execute_reply": "2022-09-07T16:34:16.692147Z"
    },
    "papermill": {
     "duration": 0.075862,
     "end_time": "2022-09-07T16:34:16.696312",
     "exception": false,
     "start_time": "2022-09-07T16:34:16.620450",
     "status": "completed"
    },
    "tags": []
   },
   "outputs": [
    {
     "name": "stdout",
     "output_type": "stream",
     "text": [
      "<class 'pandas.core.frame.DataFrame'>\n",
      "RangeIndex: 129880 entries, 0 to 129879\n",
      "Data columns (total 24 columns):\n",
      " #   Column                                  Non-Null Count   Dtype  \n",
      "---  ------                                  --------------   -----  \n",
      " 0   ID                                      129880 non-null  int64  \n",
      " 1   Gender                                  129880 non-null  object \n",
      " 2   Age                                     129880 non-null  int64  \n",
      " 3   Customer Type                           129880 non-null  object \n",
      " 4   Type of Travel                          129880 non-null  object \n",
      " 5   Class                                   129880 non-null  object \n",
      " 6   Flight Distance                         129880 non-null  int64  \n",
      " 7   Departure Delay                         129880 non-null  int64  \n",
      " 8   Arrival Delay                           129487 non-null  float64\n",
      " 9   Departure and Arrival Time Convenience  129880 non-null  int64  \n",
      " 10  Ease of Online Booking                  129880 non-null  int64  \n",
      " 11  Check-in Service                        129880 non-null  int64  \n",
      " 12  Online Boarding                         129880 non-null  int64  \n",
      " 13  Gate Location                           129880 non-null  int64  \n",
      " 14  On-board Service                        129880 non-null  int64  \n",
      " 15  Seat Comfort                            129880 non-null  int64  \n",
      " 16  Leg Room Service                        129880 non-null  int64  \n",
      " 17  Cleanliness                             129880 non-null  int64  \n",
      " 18  Food and Drink                          129880 non-null  int64  \n",
      " 19  In-flight Service                       129880 non-null  int64  \n",
      " 20  In-flight Wifi Service                  129880 non-null  int64  \n",
      " 21  In-flight Entertainment                 129880 non-null  int64  \n",
      " 22  Baggage Handling                        129880 non-null  int64  \n",
      " 23  Satisfaction                            129880 non-null  object \n",
      "dtypes: float64(1), int64(18), object(5)\n",
      "memory usage: 23.8+ MB\n"
     ]
    }
   ],
   "source": [
    "data.info()"
   ]
  },
  {
   "cell_type": "code",
   "execution_count": 6,
   "id": "6c08ffc4",
   "metadata": {
    "execution": {
     "iopub.execute_input": "2022-09-07T16:34:16.723940Z",
     "iopub.status.busy": "2022-09-07T16:34:16.723511Z",
     "iopub.status.idle": "2022-09-07T16:34:16.765594Z",
     "shell.execute_reply": "2022-09-07T16:34:16.764371Z"
    },
    "papermill": {
     "duration": 0.058648,
     "end_time": "2022-09-07T16:34:16.768150",
     "exception": false,
     "start_time": "2022-09-07T16:34:16.709502",
     "status": "completed"
    },
    "tags": []
   },
   "outputs": [
    {
     "data": {
      "text/plain": [
       "ID                                          0\n",
       "Gender                                      0\n",
       "Age                                         0\n",
       "Customer Type                               0\n",
       "Type of Travel                              0\n",
       "Class                                       0\n",
       "Flight Distance                             0\n",
       "Departure Delay                             0\n",
       "Arrival Delay                             393\n",
       "Departure and Arrival Time Convenience      0\n",
       "Ease of Online Booking                      0\n",
       "Check-in Service                            0\n",
       "Online Boarding                             0\n",
       "Gate Location                               0\n",
       "On-board Service                            0\n",
       "Seat Comfort                                0\n",
       "Leg Room Service                            0\n",
       "Cleanliness                                 0\n",
       "Food and Drink                              0\n",
       "In-flight Service                           0\n",
       "In-flight Wifi Service                      0\n",
       "In-flight Entertainment                     0\n",
       "Baggage Handling                            0\n",
       "Satisfaction                                0\n",
       "dtype: int64"
      ]
     },
     "execution_count": 6,
     "metadata": {},
     "output_type": "execute_result"
    }
   ],
   "source": [
    "data.isnull().sum()"
   ]
  },
  {
   "cell_type": "markdown",
   "id": "78b4abeb",
   "metadata": {
    "papermill": {
     "duration": 0.012393,
     "end_time": "2022-09-07T16:34:16.793296",
     "exception": false,
     "start_time": "2022-09-07T16:34:16.780903",
     "status": "completed"
    },
    "tags": []
   },
   "source": [
    "# Handling missing values"
   ]
  },
  {
   "cell_type": "code",
   "execution_count": 7,
   "id": "204b7cf7",
   "metadata": {
    "execution": {
     "iopub.execute_input": "2022-09-07T16:34:16.820254Z",
     "iopub.status.busy": "2022-09-07T16:34:16.819839Z",
     "iopub.status.idle": "2022-09-07T16:34:16.877979Z",
     "shell.execute_reply": "2022-09-07T16:34:16.876299Z"
    },
    "papermill": {
     "duration": 0.074815,
     "end_time": "2022-09-07T16:34:16.880703",
     "exception": false,
     "start_time": "2022-09-07T16:34:16.805888",
     "status": "completed"
    },
    "tags": []
   },
   "outputs": [],
   "source": [
    "data = data.dropna()"
   ]
  },
  {
   "cell_type": "code",
   "execution_count": 8,
   "id": "60444238",
   "metadata": {
    "execution": {
     "iopub.execute_input": "2022-09-07T16:34:16.907889Z",
     "iopub.status.busy": "2022-09-07T16:34:16.907451Z",
     "iopub.status.idle": "2022-09-07T16:34:16.949842Z",
     "shell.execute_reply": "2022-09-07T16:34:16.948608Z"
    },
    "papermill": {
     "duration": 0.059014,
     "end_time": "2022-09-07T16:34:16.952435",
     "exception": false,
     "start_time": "2022-09-07T16:34:16.893421",
     "status": "completed"
    },
    "tags": []
   },
   "outputs": [
    {
     "data": {
      "text/plain": [
       "ID                                        0\n",
       "Gender                                    0\n",
       "Age                                       0\n",
       "Customer Type                             0\n",
       "Type of Travel                            0\n",
       "Class                                     0\n",
       "Flight Distance                           0\n",
       "Departure Delay                           0\n",
       "Arrival Delay                             0\n",
       "Departure and Arrival Time Convenience    0\n",
       "Ease of Online Booking                    0\n",
       "Check-in Service                          0\n",
       "Online Boarding                           0\n",
       "Gate Location                             0\n",
       "On-board Service                          0\n",
       "Seat Comfort                              0\n",
       "Leg Room Service                          0\n",
       "Cleanliness                               0\n",
       "Food and Drink                            0\n",
       "In-flight Service                         0\n",
       "In-flight Wifi Service                    0\n",
       "In-flight Entertainment                   0\n",
       "Baggage Handling                          0\n",
       "Satisfaction                              0\n",
       "dtype: int64"
      ]
     },
     "execution_count": 8,
     "metadata": {},
     "output_type": "execute_result"
    }
   ],
   "source": [
    "data.isnull().sum()"
   ]
  },
  {
   "cell_type": "markdown",
   "id": "1e686903",
   "metadata": {
    "papermill": {
     "duration": 0.012481,
     "end_time": "2022-09-07T16:34:16.977785",
     "exception": false,
     "start_time": "2022-09-07T16:34:16.965304",
     "status": "completed"
    },
    "tags": []
   },
   "source": [
    "# Checking for outliers"
   ]
  },
  {
   "cell_type": "code",
   "execution_count": 9,
   "id": "dae6f114",
   "metadata": {
    "execution": {
     "iopub.execute_input": "2022-09-07T16:34:17.005291Z",
     "iopub.status.busy": "2022-09-07T16:34:17.004837Z",
     "iopub.status.idle": "2022-09-07T16:34:17.015806Z",
     "shell.execute_reply": "2022-09-07T16:34:17.014543Z"
    },
    "papermill": {
     "duration": 0.027913,
     "end_time": "2022-09-07T16:34:17.018255",
     "exception": false,
     "start_time": "2022-09-07T16:34:16.990342",
     "status": "completed"
    },
    "tags": []
   },
   "outputs": [],
   "source": [
    "data1 = data[['Departure and Arrival Time Convenience',\n",
    "'Ease of Online Booking','Check-in Service', 'Online Boarding', 'Gate Location', 'On-board Service', 'Seat Comfort', 'Leg Room Service',\n",
    "'Cleanliness', 'Food and Drink', 'In-flight Service', 'In-flight Wifi Service', 'In-flight Entertainment', 'Baggage Handling']]"
   ]
  },
  {
   "cell_type": "code",
   "execution_count": 10,
   "id": "7d8e4d5a",
   "metadata": {
    "execution": {
     "iopub.execute_input": "2022-09-07T16:34:17.045496Z",
     "iopub.status.busy": "2022-09-07T16:34:17.045040Z",
     "iopub.status.idle": "2022-09-07T16:34:19.756046Z",
     "shell.execute_reply": "2022-09-07T16:34:19.754505Z"
    },
    "papermill": {
     "duration": 2.728187,
     "end_time": "2022-09-07T16:34:19.759223",
     "exception": false,
     "start_time": "2022-09-07T16:34:17.031036",
     "status": "completed"
    },
    "tags": []
   },
   "outputs": [
    {
     "data": {
      "image/png": "[encoded data removed]",
      "text/plain": [
       "<Figure size 1080x432 with 1 Axes>"
      ]
     },
     "metadata": {
      "needs_background": "light"
     },
     "output_type": "display_data"
    },
    {
     "data": {
      "image/png": "[encoded data removed]",
      "text/plain": [
       "<Figure size 1080x432 with 1 Axes>"
      ]
     },
     "metadata": {
      "needs_background": "light"
     },
     "output_type": "display_data"
    },
    {
     "data": {
      "image/png": "[encoded data removed]",
      "text/plain": [
       "<Figure size 1080x432 with 1 Axes>"
      ]
     },
     "metadata": {
      "needs_background": "light"
     },
     "output_type": "display_data"
    },
    {
     "data": {
      "image/png": "[encoded data removed]",
      "text/plain": [
       "<Figure size 1080x432 with 1 Axes>"
      ]
     },
     "metadata": {
      "needs_background": "light"
     },
     "output_type": "display_data"
    },
    {
     "data": {
      "image/png": "[encoded data removed]",
      "text/plain": [
       "<Figure size 1080x432 with 1 Axes>"
      ]
     },
     "metadata": {
      "needs_background": "light"
     },
     "output_type": "display_data"
    },
    {
     "data": {
      "image/png": "[encoded data removed]",
      "text/plain": [
       "<Figure size 1080x432 with 1 Axes>"
      ]
     },
     "metadata": {
      "needs_background": "light"
     },
     "output_type": "display_data"
    },
    {
     "data": {
      "image/png": "[encoded data removed]",
      "text/plain": [
       "<Figure size 1080x432 with 1 Axes>"
      ]
     },
     "metadata": {
      "needs_background": "light"
     },
     "output_type": "display_data"
    },
    {
     "data": {
      "image/png": "[encoded data removed]",
      "text/plain": [
       "<Figure size 1080x432 with 1 Axes>"
      ]
     },
     "metadata": {
      "needs_background": "light"
     },
     "output_type": "display_data"
    },
    {
     "data": {
      "image/png": "[encoded data removed]",
      "text/plain": [
       "<Figure size 1080x432 with 1 Axes>"
      ]
     },
     "metadata": {
      "needs_background": "light"
     },
     "output_type": "display_data"
    },
    {
     "data": {
      "image/png": "[encoded data removed]",
      "text/plain": [
       "<Figure size 1080x432 with 1 Axes>"
      ]
     },
     "metadata": {
      "needs_background": "light"
     },
     "output_type": "display_data"
    },
    {
     "data": {
      "image/png": "[encoded data removed]",
      "text/plain": [
       "<Figure size 1080x432 with 1 Axes>"
      ]
     },
     "metadata": {
      "needs_background": "light"
     },
     "output_type": "display_data"
    },
    {
     "data": {
      "image/png": "[encoded data removed]",
      "text/plain": [
       "<Figure size 1080x432 with 1 Axes>"
      ]
     },
     "metadata": {
      "needs_background": "light"
     },
     "output_type": "display_data"
    },
    {
     "data": {
      "image/png": "[encoded data removed]",
      "text/plain": [
       "<Figure size 1080x432 with 1 Axes>"
      ]
     },
     "metadata": {
      "needs_background": "light"
     },
     "output_type": "display_data"
    },
    {
     "data": {
      "image/png": "[encoded data removed]",
      "text/plain": [
       "<Figure size 1080x432 with 1 Axes>"
      ]
     },
     "metadata": {
      "needs_background": "light"
     },
     "output_type": "display_data"
    }
   ],
   "source": [
    "for j in data1.columns:\n",
    "    plt.figure(figsize=(15,6))\n",
    "    sns.boxplot(x=data[j][1:], data=data.iloc[:1],\n",
    "                order=data1[j][1:].value_counts().index,\n",
    "                palette='hls')\n",
    "    plt.xticks(rotation=90)\n",
    "    plt.show()"
   ]
  },
  {
   "cell_type": "markdown",
   "id": "5a153138",
   "metadata": {
    "papermill": {
     "duration": 0.015935,
     "end_time": "2022-09-07T16:34:19.792171",
     "exception": false,
     "start_time": "2022-09-07T16:34:19.776236",
     "status": "completed"
    },
    "tags": []
   },
   "source": [
    "# Encoding our data"
   ]
  },
  {
   "cell_type": "code",
   "execution_count": 11,
   "id": "cd6fe678",
   "metadata": {
    "execution": {
     "iopub.execute_input": "2022-09-07T16:34:19.825617Z",
     "iopub.status.busy": "2022-09-07T16:34:19.824832Z",
     "iopub.status.idle": "2022-09-07T16:34:19.839474Z",
     "shell.execute_reply": "2022-09-07T16:34:19.837836Z"
    },
    "papermill": {
     "duration": 0.034425,
     "end_time": "2022-09-07T16:34:19.842577",
     "exception": false,
     "start_time": "2022-09-07T16:34:19.808152",
     "status": "completed"
    },
    "tags": []
   },
   "outputs": [],
   "source": [
    "columns= data[['Gender', 'Customer Type', 'Type of Travel','Class', 'Satisfaction']]"
   ]
  },
  {
   "cell_type": "code",
   "execution_count": 12,
   "id": "1f7dfe42",
   "metadata": {
    "execution": {
     "iopub.execute_input": "2022-09-07T16:34:19.875145Z",
     "iopub.status.busy": "2022-09-07T16:34:19.874720Z",
     "iopub.status.idle": "2022-09-07T16:34:19.880333Z",
     "shell.execute_reply": "2022-09-07T16:34:19.879220Z"
    },
    "papermill": {
     "duration": 0.024565,
     "end_time": "2022-09-07T16:34:19.882822",
     "exception": false,
     "start_time": "2022-09-07T16:34:19.858257",
     "status": "completed"
    },
    "tags": []
   },
   "outputs": [],
   "source": [
    "label_encoder = preprocessing.LabelEncoder()"
   ]
  },
  {
   "cell_type": "code",
   "execution_count": 13,
   "id": "e697d593",
   "metadata": {
    "execution": {
     "iopub.execute_input": "2022-09-07T16:34:19.916165Z",
     "iopub.status.busy": "2022-09-07T16:34:19.915153Z",
     "iopub.status.idle": "2022-09-07T16:34:20.083625Z",
     "shell.execute_reply": "2022-09-07T16:34:20.082377Z"
    },
    "papermill": {
     "duration": 0.188297,
     "end_time": "2022-09-07T16:34:20.086755",
     "exception": false,
     "start_time": "2022-09-07T16:34:19.898458",
     "status": "completed"
    },
    "tags": []
   },
   "outputs": [],
   "source": [
    "columns = columns.apply(label_encoder.fit_transform)"
   ]
  },
  {
   "cell_type": "code",
   "execution_count": 14,
   "id": "9718f06f",
   "metadata": {
    "execution": {
     "iopub.execute_input": "2022-09-07T16:34:20.118999Z",
     "iopub.status.busy": "2022-09-07T16:34:20.118566Z",
     "iopub.status.idle": "2022-09-07T16:34:20.130442Z",
     "shell.execute_reply": "2022-09-07T16:34:20.129133Z"
    },
    "papermill": {
     "duration": 0.031027,
     "end_time": "2022-09-07T16:34:20.132975",
     "exception": false,
     "start_time": "2022-09-07T16:34:20.101948",
     "status": "completed"
    },
    "tags": []
   },
   "outputs": [
    {
     "data": {
      "text/html": [
       "<div>\n",
       "<style scoped>\n",
       "    .dataframe tbody tr th:only-of-type {\n",
       "        vertical-align: middle;\n",
       "    }\n",
       "\n",
       "    .dataframe tbody tr th {\n",
       "        vertical-align: top;\n",
       "    }\n",
       "\n",
       "    .dataframe thead th {\n",
       "        text-align: right;\n",
       "    }\n",
       "</style>\n",
       "<table border=\"1\" class=\"dataframe\">\n",
       "  <thead>\n",
       "    <tr style=\"text-align: right;\">\n",
       "      <th></th>\n",
       "      <th>Gender</th>\n",
       "      <th>Customer Type</th>\n",
       "      <th>Type of Travel</th>\n",
       "      <th>Class</th>\n",
       "      <th>Satisfaction</th>\n",
       "    </tr>\n",
       "  </thead>\n",
       "  <tbody>\n",
       "    <tr>\n",
       "      <th>0</th>\n",
       "      <td>1</td>\n",
       "      <td>0</td>\n",
       "      <td>0</td>\n",
       "      <td>0</td>\n",
       "      <td>0</td>\n",
       "    </tr>\n",
       "    <tr>\n",
       "      <th>1</th>\n",
       "      <td>0</td>\n",
       "      <td>1</td>\n",
       "      <td>0</td>\n",
       "      <td>0</td>\n",
       "      <td>1</td>\n",
       "    </tr>\n",
       "    <tr>\n",
       "      <th>2</th>\n",
       "      <td>1</td>\n",
       "      <td>1</td>\n",
       "      <td>0</td>\n",
       "      <td>0</td>\n",
       "      <td>1</td>\n",
       "    </tr>\n",
       "    <tr>\n",
       "      <th>3</th>\n",
       "      <td>1</td>\n",
       "      <td>1</td>\n",
       "      <td>0</td>\n",
       "      <td>0</td>\n",
       "      <td>1</td>\n",
       "    </tr>\n",
       "    <tr>\n",
       "      <th>4</th>\n",
       "      <td>0</td>\n",
       "      <td>1</td>\n",
       "      <td>0</td>\n",
       "      <td>0</td>\n",
       "      <td>1</td>\n",
       "    </tr>\n",
       "  </tbody>\n",
       "</table>\n",
       "</div>"
      ],
      "text/plain": [
       "   Gender  Customer Type  Type of Travel  Class  Satisfaction\n",
       "0       1              0               0      0             0\n",
       "1       0              1               0      0             1\n",
       "2       1              1               0      0             1\n",
       "3       1              1               0      0             1\n",
       "4       0              1               0      0             1"
      ]
     },
     "execution_count": 14,
     "metadata": {},
     "output_type": "execute_result"
    }
   ],
   "source": [
    "columns.head()"
   ]
  },
  {
   "cell_type": "code",
   "execution_count": 15,
   "id": "fa8167f3",
   "metadata": {
    "execution": {
     "iopub.execute_input": "2022-09-07T16:34:20.165984Z",
     "iopub.status.busy": "2022-09-07T16:34:20.165552Z",
     "iopub.status.idle": "2022-09-07T16:34:20.247186Z",
     "shell.execute_reply": "2022-09-07T16:34:20.245812Z"
    },
    "papermill": {
     "duration": 0.101233,
     "end_time": "2022-09-07T16:34:20.249816",
     "exception": false,
     "start_time": "2022-09-07T16:34:20.148583",
     "status": "completed"
    },
    "tags": []
   },
   "outputs": [
    {
     "name": "stderr",
     "output_type": "stream",
     "text": [
      "/opt/conda/lib/python3.7/site-packages/pandas/core/frame.py:3641: SettingWithCopyWarning: \n",
      "A value is trying to be set on a copy of a slice from a DataFrame.\n",
      "Try using .loc[row_indexer,col_indexer] = value instead\n",
      "\n",
      "See the caveats in the documentation: https://pandas.pydata.org/pandas-docs/stable/user_guide/indexing.html#returning-a-view-versus-a-copy\n",
      "  self[k1] = value[k2]\n"
     ]
    },
    {
     "data": {
      "text/html": [
       "<div>\n",
       "<style scoped>\n",
       "    .dataframe tbody tr th:only-of-type {\n",
       "        vertical-align: middle;\n",
       "    }\n",
       "\n",
       "    .dataframe tbody tr th {\n",
       "        vertical-align: top;\n",
       "    }\n",
       "\n",
       "    .dataframe thead th {\n",
       "        text-align: right;\n",
       "    }\n",
       "</style>\n",
       "<table border=\"1\" class=\"dataframe\">\n",
       "  <thead>\n",
       "    <tr style=\"text-align: right;\">\n",
       "      <th></th>\n",
       "      <th>ID</th>\n",
       "      <th>Gender</th>\n",
       "      <th>Age</th>\n",
       "      <th>Customer Type</th>\n",
       "      <th>Type of Travel</th>\n",
       "      <th>Class</th>\n",
       "      <th>Flight Distance</th>\n",
       "      <th>Departure Delay</th>\n",
       "      <th>Arrival Delay</th>\n",
       "      <th>Departure and Arrival Time Convenience</th>\n",
       "      <th>...</th>\n",
       "      <th>On-board Service</th>\n",
       "      <th>Seat Comfort</th>\n",
       "      <th>Leg Room Service</th>\n",
       "      <th>Cleanliness</th>\n",
       "      <th>Food and Drink</th>\n",
       "      <th>In-flight Service</th>\n",
       "      <th>In-flight Wifi Service</th>\n",
       "      <th>In-flight Entertainment</th>\n",
       "      <th>Baggage Handling</th>\n",
       "      <th>Satisfaction</th>\n",
       "    </tr>\n",
       "  </thead>\n",
       "  <tbody>\n",
       "    <tr>\n",
       "      <th>0</th>\n",
       "      <td>1</td>\n",
       "      <td>1</td>\n",
       "      <td>48</td>\n",
       "      <td>0</td>\n",
       "      <td>0</td>\n",
       "      <td>0</td>\n",
       "      <td>821</td>\n",
       "      <td>2</td>\n",
       "      <td>5.0</td>\n",
       "      <td>3</td>\n",
       "      <td>...</td>\n",
       "      <td>3</td>\n",
       "      <td>5</td>\n",
       "      <td>2</td>\n",
       "      <td>5</td>\n",
       "      <td>5</td>\n",
       "      <td>5</td>\n",
       "      <td>3</td>\n",
       "      <td>5</td>\n",
       "      <td>5</td>\n",
       "      <td>0</td>\n",
       "    </tr>\n",
       "    <tr>\n",
       "      <th>1</th>\n",
       "      <td>2</td>\n",
       "      <td>0</td>\n",
       "      <td>35</td>\n",
       "      <td>1</td>\n",
       "      <td>0</td>\n",
       "      <td>0</td>\n",
       "      <td>821</td>\n",
       "      <td>26</td>\n",
       "      <td>39.0</td>\n",
       "      <td>2</td>\n",
       "      <td>...</td>\n",
       "      <td>5</td>\n",
       "      <td>4</td>\n",
       "      <td>5</td>\n",
       "      <td>5</td>\n",
       "      <td>3</td>\n",
       "      <td>5</td>\n",
       "      <td>2</td>\n",
       "      <td>5</td>\n",
       "      <td>5</td>\n",
       "      <td>1</td>\n",
       "    </tr>\n",
       "    <tr>\n",
       "      <th>2</th>\n",
       "      <td>3</td>\n",
       "      <td>1</td>\n",
       "      <td>41</td>\n",
       "      <td>1</td>\n",
       "      <td>0</td>\n",
       "      <td>0</td>\n",
       "      <td>853</td>\n",
       "      <td>0</td>\n",
       "      <td>0.0</td>\n",
       "      <td>4</td>\n",
       "      <td>...</td>\n",
       "      <td>3</td>\n",
       "      <td>5</td>\n",
       "      <td>3</td>\n",
       "      <td>5</td>\n",
       "      <td>5</td>\n",
       "      <td>3</td>\n",
       "      <td>4</td>\n",
       "      <td>3</td>\n",
       "      <td>3</td>\n",
       "      <td>1</td>\n",
       "    </tr>\n",
       "    <tr>\n",
       "      <th>3</th>\n",
       "      <td>4</td>\n",
       "      <td>1</td>\n",
       "      <td>50</td>\n",
       "      <td>1</td>\n",
       "      <td>0</td>\n",
       "      <td>0</td>\n",
       "      <td>1905</td>\n",
       "      <td>0</td>\n",
       "      <td>0.0</td>\n",
       "      <td>2</td>\n",
       "      <td>...</td>\n",
       "      <td>5</td>\n",
       "      <td>5</td>\n",
       "      <td>5</td>\n",
       "      <td>4</td>\n",
       "      <td>4</td>\n",
       "      <td>5</td>\n",
       "      <td>2</td>\n",
       "      <td>5</td>\n",
       "      <td>5</td>\n",
       "      <td>1</td>\n",
       "    </tr>\n",
       "    <tr>\n",
       "      <th>4</th>\n",
       "      <td>5</td>\n",
       "      <td>0</td>\n",
       "      <td>49</td>\n",
       "      <td>1</td>\n",
       "      <td>0</td>\n",
       "      <td>0</td>\n",
       "      <td>3470</td>\n",
       "      <td>0</td>\n",
       "      <td>1.0</td>\n",
       "      <td>3</td>\n",
       "      <td>...</td>\n",
       "      <td>3</td>\n",
       "      <td>4</td>\n",
       "      <td>4</td>\n",
       "      <td>5</td>\n",
       "      <td>4</td>\n",
       "      <td>3</td>\n",
       "      <td>3</td>\n",
       "      <td>3</td>\n",
       "      <td>3</td>\n",
       "      <td>1</td>\n",
       "    </tr>\n",
       "  </tbody>\n",
       "</table>\n",
       "<p>5 rows × 24 columns</p>\n",
       "</div>"
      ],
      "text/plain": [
       "   ID  Gender  Age  Customer Type  Type of Travel  Class  Flight Distance  \\\n",
       "0   1       1   48              0               0      0              821   \n",
       "1   2       0   35              1               0      0              821   \n",
       "2   3       1   41              1               0      0              853   \n",
       "3   4       1   50              1               0      0             1905   \n",
       "4   5       0   49              1               0      0             3470   \n",
       "\n",
       "   Departure Delay  Arrival Delay  Departure and Arrival Time Convenience  \\\n",
       "0                2            5.0                                       3   \n",
       "1               26           39.0                                       2   \n",
       "2                0            0.0                                       4   \n",
       "3                0            0.0                                       2   \n",
       "4                0            1.0                                       3   \n",
       "\n",
       "   ...  On-board Service  Seat Comfort  Leg Room Service  Cleanliness  \\\n",
       "0  ...                 3             5                 2            5   \n",
       "1  ...                 5             4                 5            5   \n",
       "2  ...                 3             5                 3            5   \n",
       "3  ...                 5             5                 5            4   \n",
       "4  ...                 3             4                 4            5   \n",
       "\n",
       "   Food and Drink  In-flight Service  In-flight Wifi Service  \\\n",
       "0               5                  5                       3   \n",
       "1               3                  5                       2   \n",
       "2               5                  3                       4   \n",
       "3               4                  5                       2   \n",
       "4               4                  3                       3   \n",
       "\n",
       "   In-flight Entertainment  Baggage Handling  Satisfaction  \n",
       "0                        5                 5             0  \n",
       "1                        5                 5             1  \n",
       "2                        3                 3             1  \n",
       "3                        5                 5             1  \n",
       "4                        3                 3             1  \n",
       "\n",
       "[5 rows x 24 columns]"
      ]
     },
     "execution_count": 15,
     "metadata": {},
     "output_type": "execute_result"
    }
   ],
   "source": [
    "data[list(columns.columns)] = columns\n",
    "data = data.apply(pd.to_numeric, errors='coerce')\n",
    "data.head()"
   ]
  },
  {
   "cell_type": "code",
   "execution_count": 16,
   "id": "e08013f5",
   "metadata": {
    "execution": {
     "iopub.execute_input": "2022-09-07T16:34:20.283589Z",
     "iopub.status.busy": "2022-09-07T16:34:20.283041Z",
     "iopub.status.idle": "2022-09-07T16:34:20.303853Z",
     "shell.execute_reply": "2022-09-07T16:34:20.301914Z"
    },
    "papermill": {
     "duration": 0.041111,
     "end_time": "2022-09-07T16:34:20.306783",
     "exception": false,
     "start_time": "2022-09-07T16:34:20.265672",
     "status": "completed"
    },
    "tags": []
   },
   "outputs": [
    {
     "name": "stdout",
     "output_type": "stream",
     "text": [
      "<class 'pandas.core.frame.DataFrame'>\n",
      "Int64Index: 129487 entries, 0 to 129879\n",
      "Data columns (total 24 columns):\n",
      " #   Column                                  Non-Null Count   Dtype  \n",
      "---  ------                                  --------------   -----  \n",
      " 0   ID                                      129487 non-null  int64  \n",
      " 1   Gender                                  129487 non-null  int64  \n",
      " 2   Age                                     129487 non-null  int64  \n",
      " 3   Customer Type                           129487 non-null  int64  \n",
      " 4   Type of Travel                          129487 non-null  int64  \n",
      " 5   Class                                   129487 non-null  int64  \n",
      " 6   Flight Distance                         129487 non-null  int64  \n",
      " 7   Departure Delay                         129487 non-null  int64  \n",
      " 8   Arrival Delay                           129487 non-null  float64\n",
      " 9   Departure and Arrival Time Convenience  129487 non-null  int64  \n",
      " 10  Ease of Online Booking                  129487 non-null  int64  \n",
      " 11  Check-in Service                        129487 non-null  int64  \n",
      " 12  Online Boarding                         129487 non-null  int64  \n",
      " 13  Gate Location                           129487 non-null  int64  \n",
      " 14  On-board Service                        129487 non-null  int64  \n",
      " 15  Seat Comfort                            129487 non-null  int64  \n",
      " 16  Leg Room Service                        129487 non-null  int64  \n",
      " 17  Cleanliness                             129487 non-null  int64  \n",
      " 18  Food and Drink                          129487 non-null  int64  \n",
      " 19  In-flight Service                       129487 non-null  int64  \n",
      " 20  In-flight Wifi Service                  129487 non-null  int64  \n",
      " 21  In-flight Entertainment                 129487 non-null  int64  \n",
      " 22  Baggage Handling                        129487 non-null  int64  \n",
      " 23  Satisfaction                            129487 non-null  int64  \n",
      "dtypes: float64(1), int64(23)\n",
      "memory usage: 24.7 MB\n"
     ]
    }
   ],
   "source": [
    "data.info()"
   ]
  },
  {
   "cell_type": "code",
   "execution_count": 17,
   "id": "1fc6879b",
   "metadata": {
    "execution": {
     "iopub.execute_input": "2022-09-07T16:34:20.341336Z",
     "iopub.status.busy": "2022-09-07T16:34:20.340898Z",
     "iopub.status.idle": "2022-09-07T16:34:21.141591Z",
     "shell.execute_reply": "2022-09-07T16:34:21.140128Z"
    },
    "papermill": {
     "duration": 0.821389,
     "end_time": "2022-09-07T16:34:21.144452",
     "exception": false,
     "start_time": "2022-09-07T16:34:20.323063",
     "status": "completed"
    },
    "tags": []
   },
   "outputs": [
    {
     "data": {
      "text/plain": [
       "Text(0.5, 1.0, 'Correlation coefficient between different features and Satisfaction ')"
      ]
     },
     "execution_count": 17,
     "metadata": {},
     "output_type": "execute_result"
    },
    {
     "data": {
      "image/png": "[encoded data removed]",
      "text/plain": [
       "<Figure size 864x576 with 1 Axes>"
      ]
     },
     "metadata": {
      "needs_background": "light"
     },
     "output_type": "display_data"
    }
   ],
   "source": [
    "plt.figure(figsize=(12,8))\n",
    "data_4 = data.corr()[\"Satisfaction\"].sort_values(ascending=False)\n",
    "indices = data_4.index\n",
    "labels = []\n",
    "corr = []\n",
    "for i in range(1, len(indices)):\n",
    "    labels.append(indices[i])\n",
    "    corr.append(data_4[i])\n",
    "sns.barplot(x=corr, y=labels, palette='magma')\n",
    "plt.title('Correlation coefficient between different features and Satisfaction ')"
   ]
  },
  {
   "cell_type": "code",
   "execution_count": 18,
   "id": "0272188d",
   "metadata": {
    "execution": {
     "iopub.execute_input": "2022-09-07T16:34:21.180127Z",
     "iopub.status.busy": "2022-09-07T16:34:21.179732Z",
     "iopub.status.idle": "2022-09-07T16:34:24.088298Z",
     "shell.execute_reply": "2022-09-07T16:34:24.087335Z"
    },
    "papermill": {
     "duration": 2.929642,
     "end_time": "2022-09-07T16:34:24.091022",
     "exception": false,
     "start_time": "2022-09-07T16:34:21.161380",
     "status": "completed"
    },
    "tags": []
   },
   "outputs": [
    {
     "data": {
      "image/png": "[encoded data removed]",
      "text/plain": [
       "<Figure size 1080x1080 with 25 Axes>"
      ]
     },
     "metadata": {
      "needs_background": "light"
     },
     "output_type": "display_data"
    }
   ],
   "source": [
    "data.hist(figsize=(15,15))\n",
    "plt.show()"
   ]
  },
  {
   "cell_type": "markdown",
   "id": "9582b82e",
   "metadata": {
    "papermill": {
     "duration": 0.017321,
     "end_time": "2022-09-07T16:34:24.127234",
     "exception": false,
     "start_time": "2022-09-07T16:34:24.109913",
     "status": "completed"
    },
    "tags": []
   },
   "source": [
    "# Spliting the Data"
   ]
  },
  {
   "cell_type": "code",
   "execution_count": 19,
   "id": "2ff432e1",
   "metadata": {
    "execution": {
     "iopub.execute_input": "2022-09-07T16:34:24.164623Z",
     "iopub.status.busy": "2022-09-07T16:34:24.163915Z",
     "iopub.status.idle": "2022-09-07T16:34:24.174752Z",
     "shell.execute_reply": "2022-09-07T16:34:24.173713Z"
    },
    "papermill": {
     "duration": 0.032387,
     "end_time": "2022-09-07T16:34:24.177239",
     "exception": false,
     "start_time": "2022-09-07T16:34:24.144852",
     "status": "completed"
    },
    "tags": []
   },
   "outputs": [],
   "source": [
    "y =data.Satisfaction.to_numpy()\n",
    "data.drop(columns=['ID', 'Satisfaction'], inplace=True)\n",
    "X = data"
   ]
  },
  {
   "cell_type": "code",
   "execution_count": 20,
   "id": "f7a3e957",
   "metadata": {
    "execution": {
     "iopub.execute_input": "2022-09-07T16:34:24.214638Z",
     "iopub.status.busy": "2022-09-07T16:34:24.213925Z",
     "iopub.status.idle": "2022-09-07T16:34:24.218311Z",
     "shell.execute_reply": "2022-09-07T16:34:24.217545Z"
    },
    "papermill": {
     "duration": 0.025476,
     "end_time": "2022-09-07T16:34:24.220458",
     "exception": false,
     "start_time": "2022-09-07T16:34:24.194982",
     "status": "completed"
    },
    "tags": []
   },
   "outputs": [],
   "source": [
    "from sklearn.preprocessing import StandardScaler\n",
    "scaler = StandardScaler()"
   ]
  },
  {
   "cell_type": "code",
   "execution_count": 21,
   "id": "19e07b6b",
   "metadata": {
    "execution": {
     "iopub.execute_input": "2022-09-07T16:34:24.257574Z",
     "iopub.status.busy": "2022-09-07T16:34:24.257154Z",
     "iopub.status.idle": "2022-09-07T16:34:24.315758Z",
     "shell.execute_reply": "2022-09-07T16:34:24.314457Z"
    },
    "papermill": {
     "duration": 0.080648,
     "end_time": "2022-09-07T16:34:24.318698",
     "exception": false,
     "start_time": "2022-09-07T16:34:24.238050",
     "status": "completed"
    },
    "tags": []
   },
   "outputs": [],
   "source": [
    "X = pd.DataFrame(scaler.fit_transform(X),columns = X.columns)"
   ]
  },
  {
   "cell_type": "code",
   "execution_count": 22,
   "id": "916cf69e",
   "metadata": {
    "execution": {
     "iopub.execute_input": "2022-09-07T16:34:24.356322Z",
     "iopub.status.busy": "2022-09-07T16:34:24.355203Z",
     "iopub.status.idle": "2022-09-07T16:34:24.360965Z",
     "shell.execute_reply": "2022-09-07T16:34:24.359884Z"
    },
    "papermill": {
     "duration": 0.026687,
     "end_time": "2022-09-07T16:34:24.363142",
     "exception": false,
     "start_time": "2022-09-07T16:34:24.336455",
     "status": "completed"
    },
    "tags": []
   },
   "outputs": [],
   "source": [
    "from sklearn.model_selection import train_test_split"
   ]
  },
  {
   "cell_type": "code",
   "execution_count": 23,
   "id": "017e3260",
   "metadata": {
    "execution": {
     "iopub.execute_input": "2022-09-07T16:34:24.402260Z",
     "iopub.status.busy": "2022-09-07T16:34:24.401437Z",
     "iopub.status.idle": "2022-09-07T16:34:24.433892Z",
     "shell.execute_reply": "2022-09-07T16:34:24.432743Z"
    },
    "papermill": {
     "duration": 0.055323,
     "end_time": "2022-09-07T16:34:24.436774",
     "exception": false,
     "start_time": "2022-09-07T16:34:24.381451",
     "status": "completed"
    },
    "tags": []
   },
   "outputs": [],
   "source": [
    "x_train , x_test , y_train , y_test = train_test_split(X , y , test_size= 0.25 , random_state=42)"
   ]
  },
  {
   "cell_type": "markdown",
   "id": "058649df",
   "metadata": {
    "papermill": {
     "duration": 0.017676,
     "end_time": "2022-09-07T16:34:24.472373",
     "exception": false,
     "start_time": "2022-09-07T16:34:24.454697",
     "status": "completed"
    },
    "tags": []
   },
   "source": [
    "# Appling the models WITHOUT Feature Selection"
   ]
  },
  {
   "cell_type": "code",
   "execution_count": 24,
   "id": "49c7759c",
   "metadata": {
    "execution": {
     "iopub.execute_input": "2022-09-07T16:34:24.510377Z",
     "iopub.status.busy": "2022-09-07T16:34:24.509581Z",
     "iopub.status.idle": "2022-09-07T16:34:24.514718Z",
     "shell.execute_reply": "2022-09-07T16:34:24.513871Z"
    },
    "papermill": {
     "duration": 0.026911,
     "end_time": "2022-09-07T16:34:24.517190",
     "exception": false,
     "start_time": "2022-09-07T16:34:24.490279",
     "status": "completed"
    },
    "tags": []
   },
   "outputs": [],
   "source": [
    "lr = LogisticRegression()"
   ]
  },
  {
   "cell_type": "code",
   "execution_count": 25,
   "id": "2b7aba6b",
   "metadata": {
    "execution": {
     "iopub.execute_input": "2022-09-07T16:34:24.556168Z",
     "iopub.status.busy": "2022-09-07T16:34:24.555347Z",
     "iopub.status.idle": "2022-09-07T16:34:24.914091Z",
     "shell.execute_reply": "2022-09-07T16:34:24.912539Z"
    },
    "papermill": {
     "duration": 0.382077,
     "end_time": "2022-09-07T16:34:24.917989",
     "exception": false,
     "start_time": "2022-09-07T16:34:24.535912",
     "status": "completed"
    },
    "tags": []
   },
   "outputs": [
    {
     "data": {
      "text/plain": [
       "LogisticRegression()"
      ]
     },
     "execution_count": 25,
     "metadata": {},
     "output_type": "execute_result"
    }
   ],
   "source": [
    "lr.fit(x_train , y_train)"
   ]
  },
  {
   "cell_type": "code",
   "execution_count": 26,
   "id": "2ae5de78",
   "metadata": {
    "execution": {
     "iopub.execute_input": "2022-09-07T16:34:24.980185Z",
     "iopub.status.busy": "2022-09-07T16:34:24.979648Z",
     "iopub.status.idle": "2022-09-07T16:34:25.010498Z",
     "shell.execute_reply": "2022-09-07T16:34:25.009279Z"
    },
    "papermill": {
     "duration": 0.066929,
     "end_time": "2022-09-07T16:34:25.013763",
     "exception": false,
     "start_time": "2022-09-07T16:34:24.946834",
     "status": "completed"
    },
    "tags": []
   },
   "outputs": [
    {
     "data": {
      "text/plain": [
       "0.8746640580754775"
      ]
     },
     "execution_count": 26,
     "metadata": {},
     "output_type": "execute_result"
    }
   ],
   "source": [
    "lr.score(x_train, y_train)"
   ]
  },
  {
   "cell_type": "code",
   "execution_count": 27,
   "id": "48c999ff",
   "metadata": {
    "execution": {
     "iopub.execute_input": "2022-09-07T16:34:25.077010Z",
     "iopub.status.busy": "2022-09-07T16:34:25.076474Z",
     "iopub.status.idle": "2022-09-07T16:34:25.089539Z",
     "shell.execute_reply": "2022-09-07T16:34:25.088344Z"
    },
    "papermill": {
     "duration": 0.047427,
     "end_time": "2022-09-07T16:34:25.092787",
     "exception": false,
     "start_time": "2022-09-07T16:34:25.045360",
     "status": "completed"
    },
    "tags": []
   },
   "outputs": [
    {
     "name": "stdout",
     "output_type": "stream",
     "text": [
      "MAE: 0.127\n"
     ]
    }
   ],
   "source": [
    "from sklearn.metrics import mean_absolute_error\n",
    "yhat = lr.predict(x_test)\n",
    "mae = mean_absolute_error(y_test, yhat)\n",
    "print('MAE: %.3f' % mae)"
   ]
  },
  {
   "cell_type": "code",
   "execution_count": 28,
   "id": "d3ab26d3",
   "metadata": {
    "execution": {
     "iopub.execute_input": "2022-09-07T16:34:25.153548Z",
     "iopub.status.busy": "2022-09-07T16:34:25.152984Z",
     "iopub.status.idle": "2022-09-07T16:34:25.159103Z",
     "shell.execute_reply": "2022-09-07T16:34:25.157891Z"
    },
    "papermill": {
     "duration": 0.039826,
     "end_time": "2022-09-07T16:34:25.162040",
     "exception": false,
     "start_time": "2022-09-07T16:34:25.122214",
     "status": "completed"
    },
    "tags": []
   },
   "outputs": [],
   "source": [
    "kNN = KNeighborsClassifier(n_neighbors=7)"
   ]
  },
  {
   "cell_type": "code",
   "execution_count": 29,
   "id": "f6690d55",
   "metadata": {
    "execution": {
     "iopub.execute_input": "2022-09-07T16:34:25.216190Z",
     "iopub.status.busy": "2022-09-07T16:34:25.215785Z",
     "iopub.status.idle": "2022-09-07T16:34:25.233260Z",
     "shell.execute_reply": "2022-09-07T16:34:25.231986Z"
    },
    "papermill": {
     "duration": 0.045327,
     "end_time": "2022-09-07T16:34:25.236316",
     "exception": false,
     "start_time": "2022-09-07T16:34:25.190989",
     "status": "completed"
    },
    "tags": []
   },
   "outputs": [
    {
     "data": {
      "text/plain": [
       "KNeighborsClassifier(n_neighbors=7)"
      ]
     },
     "execution_count": 29,
     "metadata": {},
     "output_type": "execute_result"
    }
   ],
   "source": [
    "kNN.fit(x_train , y_train)"
   ]
  },
  {
   "cell_type": "code",
   "execution_count": 30,
   "id": "ecad5116",
   "metadata": {
    "execution": {
     "iopub.execute_input": "2022-09-07T16:34:25.275163Z",
     "iopub.status.busy": "2022-09-07T16:34:25.274379Z",
     "iopub.status.idle": "2022-09-07T16:37:38.883017Z",
     "shell.execute_reply": "2022-09-07T16:37:38.881850Z"
    },
    "papermill": {
     "duration": 193.64931,
     "end_time": "2022-09-07T16:37:38.903877",
     "exception": false,
     "start_time": "2022-09-07T16:34:25.254567",
     "status": "completed"
    },
    "tags": []
   },
   "outputs": [
    {
     "data": {
      "text/plain": [
       "0.9446738402924368"
      ]
     },
     "execution_count": 30,
     "metadata": {},
     "output_type": "execute_result"
    }
   ],
   "source": [
    "kNN.score(x_train , y_train)"
   ]
  },
  {
   "cell_type": "code",
   "execution_count": 31,
   "id": "d2b98443",
   "metadata": {
    "execution": {
     "iopub.execute_input": "2022-09-07T16:37:38.942787Z",
     "iopub.status.busy": "2022-09-07T16:37:38.942052Z",
     "iopub.status.idle": "2022-09-07T16:38:42.909397Z",
     "shell.execute_reply": "2022-09-07T16:38:42.908097Z"
    },
    "papermill": {
     "duration": 64.00611,
     "end_time": "2022-09-07T16:38:42.928298",
     "exception": false,
     "start_time": "2022-09-07T16:37:38.922188",
     "status": "completed"
    },
    "tags": []
   },
   "outputs": [
    {
     "data": {
      "text/plain": [
       "0.9291362906215248"
      ]
     },
     "execution_count": 31,
     "metadata": {},
     "output_type": "execute_result"
    }
   ],
   "source": [
    "kNN.score(x_test, y_test)"
   ]
  },
  {
   "cell_type": "code",
   "execution_count": 32,
   "id": "0d927942",
   "metadata": {
    "execution": {
     "iopub.execute_input": "2022-09-07T16:38:42.966232Z",
     "iopub.status.busy": "2022-09-07T16:38:42.965861Z",
     "iopub.status.idle": "2022-09-07T16:39:47.143839Z",
     "shell.execute_reply": "2022-09-07T16:39:47.142483Z"
    },
    "papermill": {
     "duration": 64.217587,
     "end_time": "2022-09-07T16:39:47.164019",
     "exception": false,
     "start_time": "2022-09-07T16:38:42.946432",
     "status": "completed"
    },
    "tags": []
   },
   "outputs": [
    {
     "name": "stdout",
     "output_type": "stream",
     "text": [
      "MAE: 0.071\n"
     ]
    }
   ],
   "source": [
    "yhat = kNN.predict(x_test)\n",
    "mae = mean_absolute_error(y_test, yhat)\n",
    "print('MAE: %.3f' % mae)"
   ]
  },
  {
   "cell_type": "markdown",
   "id": "dc366a2c",
   "metadata": {
    "papermill": {
     "duration": 0.018133,
     "end_time": "2022-09-07T16:39:47.200738",
     "exception": false,
     "start_time": "2022-09-07T16:39:47.182605",
     "status": "completed"
    },
    "tags": []
   },
   "source": [
    "# Using Feature selection technique [RFE]"
   ]
  },
  {
   "cell_type": "code",
   "execution_count": 33,
   "id": "68ec8dba",
   "metadata": {
    "execution": {
     "iopub.execute_input": "2022-09-07T16:39:47.240864Z",
     "iopub.status.busy": "2022-09-07T16:39:47.240428Z",
     "iopub.status.idle": "2022-09-07T16:39:47.257876Z",
     "shell.execute_reply": "2022-09-07T16:39:47.256680Z"
    },
    "papermill": {
     "duration": 0.040231,
     "end_time": "2022-09-07T16:39:47.260506",
     "exception": false,
     "start_time": "2022-09-07T16:39:47.220275",
     "status": "completed"
    },
    "tags": []
   },
   "outputs": [],
   "source": [
    "from sklearn.feature_selection import RFE\n",
    "from sklearn.linear_model import LogisticRegression"
   ]
  },
  {
   "cell_type": "code",
   "execution_count": 34,
   "id": "d91e66db",
   "metadata": {
    "execution": {
     "iopub.execute_input": "2022-09-07T16:39:47.299693Z",
     "iopub.status.busy": "2022-09-07T16:39:47.298916Z",
     "iopub.status.idle": "2022-09-07T16:39:48.272526Z",
     "shell.execute_reply": "2022-09-07T16:39:48.271228Z"
    },
    "papermill": {
     "duration": 0.996594,
     "end_time": "2022-09-07T16:39:48.275686",
     "exception": false,
     "start_time": "2022-09-07T16:39:47.279092",
     "status": "completed"
    },
    "tags": []
   },
   "outputs": [
    {
     "name": "stdout",
     "output_type": "stream",
     "text": [
      "Num Features: 21\n",
      "Selected Features: [ True  True  True  True  True False  True  True  True  True  True  True\n",
      "  True  True  True  True  True  True  True  True  True  True]\n",
      "Feature Ranking: [1 1 1 1 1 2 1 1 1 1 1 1 1 1 1 1 1 1 1 1 1 1]\n"
     ]
    }
   ],
   "source": [
    "# Feature extraction\n",
    "model = LogisticRegression()\n",
    "rfe = RFE(model, n_features_to_select=21)\n",
    "fit = rfe.fit(X, y)\n",
    "print(\"Num Features: %s\" % (fit.n_features_))\n",
    "print(\"Selected Features: %s\" % (fit.support_))\n",
    "print(\"Feature Ranking: %s\" % (fit.ranking_))"
   ]
  },
  {
   "cell_type": "code",
   "execution_count": 35,
   "id": "4e6f1e37",
   "metadata": {
    "execution": {
     "iopub.execute_input": "2022-09-07T16:39:48.339600Z",
     "iopub.status.busy": "2022-09-07T16:39:48.339010Z",
     "iopub.status.idle": "2022-09-07T16:39:48.353637Z",
     "shell.execute_reply": "2022-09-07T16:39:48.352199Z"
    },
    "papermill": {
     "duration": 0.051674,
     "end_time": "2022-09-07T16:39:48.357941",
     "exception": false,
     "start_time": "2022-09-07T16:39:48.306267",
     "status": "completed"
    },
    "tags": []
   },
   "outputs": [
    {
     "data": {
      "text/plain": [
       "RFE(estimator=LogisticRegression(), n_features_to_select=21)"
      ]
     },
     "execution_count": 35,
     "metadata": {},
     "output_type": "execute_result"
    }
   ],
   "source": [
    "fit"
   ]
  },
  {
   "cell_type": "code",
   "execution_count": 36,
   "id": "b34fae18",
   "metadata": {
    "execution": {
     "iopub.execute_input": "2022-09-07T16:39:48.408854Z",
     "iopub.status.busy": "2022-09-07T16:39:48.408442Z",
     "iopub.status.idle": "2022-09-07T16:39:48.421881Z",
     "shell.execute_reply": "2022-09-07T16:39:48.420953Z"
    },
    "papermill": {
     "duration": 0.036178,
     "end_time": "2022-09-07T16:39:48.424554",
     "exception": false,
     "start_time": "2022-09-07T16:39:48.388376",
     "status": "completed"
    },
    "tags": []
   },
   "outputs": [],
   "source": [
    "features = fit.transform(X)"
   ]
  },
  {
   "cell_type": "code",
   "execution_count": 37,
   "id": "9911eb0d",
   "metadata": {
    "execution": {
     "iopub.execute_input": "2022-09-07T16:39:48.464017Z",
     "iopub.status.busy": "2022-09-07T16:39:48.462974Z",
     "iopub.status.idle": "2022-09-07T16:39:48.469404Z",
     "shell.execute_reply": "2022-09-07T16:39:48.468566Z"
    },
    "papermill": {
     "duration": 0.028689,
     "end_time": "2022-09-07T16:39:48.471717",
     "exception": false,
     "start_time": "2022-09-07T16:39:48.443028",
     "status": "completed"
    },
    "tags": []
   },
   "outputs": [],
   "source": [
    "d=pd.DataFrame(features)"
   ]
  },
  {
   "cell_type": "code",
   "execution_count": 38,
   "id": "e6a7fe86",
   "metadata": {
    "execution": {
     "iopub.execute_input": "2022-09-07T16:39:48.510990Z",
     "iopub.status.busy": "2022-09-07T16:39:48.509885Z",
     "iopub.status.idle": "2022-09-07T16:39:50.817638Z",
     "shell.execute_reply": "2022-09-07T16:39:50.816418Z"
    },
    "papermill": {
     "duration": 2.330514,
     "end_time": "2022-09-07T16:39:50.820640",
     "exception": false,
     "start_time": "2022-09-07T16:39:48.490126",
     "status": "completed"
    },
    "tags": []
   },
   "outputs": [
    {
     "data": {
      "image/png": "[encoded data removed]",
      "text/plain": [
       "<Figure size 720x720 with 25 Axes>"
      ]
     },
     "metadata": {
      "needs_background": "light"
     },
     "output_type": "display_data"
    }
   ],
   "source": [
    "d.hist(figsize=(10,10))\n",
    "plt.show()"
   ]
  },
  {
   "cell_type": "code",
   "execution_count": 39,
   "id": "3d525153",
   "metadata": {
    "execution": {
     "iopub.execute_input": "2022-09-07T16:39:50.863324Z",
     "iopub.status.busy": "2022-09-07T16:39:50.862885Z",
     "iopub.status.idle": "2022-09-07T16:39:50.911054Z",
     "shell.execute_reply": "2022-09-07T16:39:50.909689Z"
    },
    "papermill": {
     "duration": 0.073639,
     "end_time": "2022-09-07T16:39:50.914502",
     "exception": false,
     "start_time": "2022-09-07T16:39:50.840863",
     "status": "completed"
    },
    "tags": []
   },
   "outputs": [],
   "source": [
    "X_train, X_test, y_train, y_test = train_test_split(features, y, test_size = 0.2, random_state = 4)"
   ]
  },
  {
   "cell_type": "code",
   "execution_count": 40,
   "id": "fae59764",
   "metadata": {
    "execution": {
     "iopub.execute_input": "2022-09-07T16:39:50.957477Z",
     "iopub.status.busy": "2022-09-07T16:39:50.957027Z",
     "iopub.status.idle": "2022-09-07T16:39:51.497088Z",
     "shell.execute_reply": "2022-09-07T16:39:51.495711Z"
    },
    "papermill": {
     "duration": 0.565009,
     "end_time": "2022-09-07T16:39:51.500552",
     "exception": false,
     "start_time": "2022-09-07T16:39:50.935543",
     "status": "completed"
    },
    "tags": []
   },
   "outputs": [
    {
     "name": "stdout",
     "output_type": "stream",
     "text": [
      "0.8747550415584666\n",
      "0.8738512626457642\n"
     ]
    }
   ],
   "source": [
    "lr = LogisticRegression()\n",
    "lr.fit(X_train , y_train)\n",
    "print(lr.score(X_train, y_train))\n",
    "print(lr.score(X_test, y_test))"
   ]
  },
  {
   "cell_type": "code",
   "execution_count": 41,
   "id": "a900b6e9",
   "metadata": {
    "execution": {
     "iopub.execute_input": "2022-09-07T16:39:51.571037Z",
     "iopub.status.busy": "2022-09-07T16:39:51.570462Z",
     "iopub.status.idle": "2022-09-07T16:39:51.576697Z",
     "shell.execute_reply": "2022-09-07T16:39:51.575453Z"
    },
    "papermill": {
     "duration": 0.044845,
     "end_time": "2022-09-07T16:39:51.579663",
     "exception": false,
     "start_time": "2022-09-07T16:39:51.534818",
     "status": "completed"
    },
    "tags": []
   },
   "outputs": [],
   "source": [
    "kNN = KNeighborsClassifier(n_neighbors=7)"
   ]
  },
  {
   "cell_type": "code",
   "execution_count": 42,
   "id": "e3d7ba29",
   "metadata": {
    "execution": {
     "iopub.execute_input": "2022-09-07T16:39:51.632998Z",
     "iopub.status.busy": "2022-09-07T16:39:51.632291Z",
     "iopub.status.idle": "2022-09-07T16:39:51.650059Z",
     "shell.execute_reply": "2022-09-07T16:39:51.648725Z"
    },
    "papermill": {
     "duration": 0.041161,
     "end_time": "2022-09-07T16:39:51.652738",
     "exception": false,
     "start_time": "2022-09-07T16:39:51.611577",
     "status": "completed"
    },
    "tags": []
   },
   "outputs": [
    {
     "data": {
      "text/plain": [
       "KNeighborsClassifier(n_neighbors=7)"
      ]
     },
     "execution_count": 42,
     "metadata": {},
     "output_type": "execute_result"
    }
   ],
   "source": [
    "kNN.fit(X_train , y_train)"
   ]
  },
  {
   "cell_type": "code",
   "execution_count": 43,
   "id": "3c9602bd",
   "metadata": {
    "execution": {
     "iopub.execute_input": "2022-09-07T16:39:51.696482Z",
     "iopub.status.busy": "2022-09-07T16:39:51.695631Z",
     "iopub.status.idle": "2022-09-07T16:43:40.618847Z",
     "shell.execute_reply": "2022-09-07T16:43:40.617501Z"
    },
    "papermill": {
     "duration": 228.976849,
     "end_time": "2022-09-07T16:43:40.650139",
     "exception": false,
     "start_time": "2022-09-07T16:39:51.673290",
     "status": "completed"
    },
    "tags": []
   },
   "outputs": [
    {
     "data": {
      "text/plain": [
       "0.9462587726496057"
      ]
     },
     "execution_count": 43,
     "metadata": {},
     "output_type": "execute_result"
    }
   ],
   "source": [
    "kNN.score(X_train , y_train)"
   ]
  },
  {
   "cell_type": "code",
   "execution_count": 44,
   "id": "7ba7421b",
   "metadata": {
    "execution": {
     "iopub.execute_input": "2022-09-07T16:43:40.694967Z",
     "iopub.status.busy": "2022-09-07T16:43:40.693845Z",
     "iopub.status.idle": "2022-09-07T16:44:39.207440Z",
     "shell.execute_reply": "2022-09-07T16:44:39.206441Z"
    },
    "papermill": {
     "duration": 58.558095,
     "end_time": "2022-09-07T16:44:39.229955",
     "exception": false,
     "start_time": "2022-09-07T16:43:40.671860",
     "status": "completed"
    },
    "tags": []
   },
   "outputs": [
    {
     "data": {
      "text/plain": [
       "0.9308826936442969"
      ]
     },
     "execution_count": 44,
     "metadata": {},
     "output_type": "execute_result"
    }
   ],
   "source": [
    "kNN.score(X_test, y_test)"
   ]
  },
  {
   "cell_type": "code",
   "execution_count": 45,
   "id": "c1120307",
   "metadata": {
    "execution": {
     "iopub.execute_input": "2022-09-07T16:44:39.275212Z",
     "iopub.status.busy": "2022-09-07T16:44:39.274174Z",
     "iopub.status.idle": "2022-09-07T16:45:37.297731Z",
     "shell.execute_reply": "2022-09-07T16:45:37.296466Z"
    },
    "papermill": {
     "duration": 58.067998,
     "end_time": "2022-09-07T16:45:37.319649",
     "exception": false,
     "start_time": "2022-09-07T16:44:39.251651",
     "status": "completed"
    },
    "tags": []
   },
   "outputs": [
    {
     "name": "stdout",
     "output_type": "stream",
     "text": [
      "MAE: 0.069\n"
     ]
    }
   ],
   "source": [
    "yhat = kNN.predict(X_test)\n",
    "mae = mean_absolute_error(y_test, yhat)\n",
    "print('MAE: %.3f' % mae)"
   ]
  }
 ],
 "metadata": {
  "kernelspec": {
   "display_name": "Python 3",
   "language": "python",
   "name": "python3"
  },
  "language_info": {
   "codemirror_mode": {
    "name": "ipython",
    "version": 3
   },
   "file_extension": ".py",
   "mimetype": "text/x-python",
   "name": "python",
   "nbconvert_exporter": "python",
   "pygments_lexer": "ipython3",
   "version": "3.7.12"
  },
  "papermill": {
   "default_parameters": {},
   "duration": 693.188891,
   "end_time": "2022-09-07T16:45:38.366948",
   "environment_variables": {},
   "exception": null,
   "input_path": "__notebook__.ipynb",
   "output_path": "__notebook__.ipynb",
   "parameters": {},
   "start_time": "2022-09-07T16:34:05.178057",
   "version": "2.3.4"
  }
 },
 "nbformat": 4,
 "nbformat_minor": 5
}
